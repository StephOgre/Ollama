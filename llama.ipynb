{
 "cells": [
  {
   "cell_type": "code",
   "execution_count": 25,
   "id": "f740cc8b-2e2b-4148-9000-1b87bafd0d99",
   "metadata": {},
   "outputs": [],
   "source": [
    "import ollama\n",
    "import pandas as pd\n",
    "import re\n",
    "from sklearn.model_selection import train_test_split\n",
    "import os\n",
    "from sklearn.metrics import classification_report, confusion_matrix, accuracy_score"
   ]
  },
  {
   "cell_type": "markdown",
   "id": "c7366460-049e-4543-ae82-6a8ebea23481",
   "metadata": {},
   "source": [
    "## Manip des données et transformation"
   ]
  },
  {
   "cell_type": "code",
   "execution_count": 26,
   "id": "383bd237-585d-40de-8f99-674a09045cd8",
   "metadata": {},
   "outputs": [
    {
     "data": {
      "text/plain": [
       "'/home/onyxia/work/Ollama'"
      ]
     },
     "execution_count": 26,
     "metadata": {},
     "output_type": "execute_result"
    }
   ],
   "source": [
    "os.getcwd()"
   ]
  },
  {
   "cell_type": "code",
   "execution_count": 82,
   "id": "fdd448e6-91a3-4b3d-92b0-5e68dae863c6",
   "metadata": {},
   "outputs": [
    {
     "name": "stderr",
     "output_type": "stream",
     "text": [
      "/tmp/ipykernel_3651/1991247669.py:3: FutureWarning: Downcasting behavior in `replace` is deprecated and will be removed in a future version. To retain the old behavior, explicitly call `result.infer_objects(copy=False)`. To opt-in to the future behavior, set `pd.set_option('future.no_silent_downcasting', True)`\n",
      "  df['sentiment'] = df['sentiment'].replace({\"grève\": 1, \"autre\": 0})\n"
     ]
    },
    {
     "data": {
      "text/html": [
       "<div>\n",
       "<style scoped>\n",
       "    .dataframe tbody tr th:only-of-type {\n",
       "        vertical-align: middle;\n",
       "    }\n",
       "\n",
       "    .dataframe tbody tr th {\n",
       "        vertical-align: top;\n",
       "    }\n",
       "\n",
       "    .dataframe thead th {\n",
       "        text-align: right;\n",
       "    }\n",
       "</style>\n",
       "<table border=\"1\" class=\"dataframe\">\n",
       "  <thead>\n",
       "    <tr style=\"text-align: right;\">\n",
       "      <th></th>\n",
       "      <th>Contenu</th>\n",
       "      <th>sentiment</th>\n",
       "    </tr>\n",
       "  </thead>\n",
       "  <tbody>\n",
       "    <tr>\n",
       "      <th>0</th>\n",
       "      <td>Accueil Voyage Salon Nautique de Paris 2019: p...</td>\n",
       "      <td>0</td>\n",
       "    </tr>\n",
       "    <tr>\n",
       "      <th>1</th>\n",
       "      <td>Après Commercy et Saint-Nazaire, Montceau-les-...</td>\n",
       "      <td>0</td>\n",
       "    </tr>\n",
       "    <tr>\n",
       "      <th>2</th>\n",
       "      <td>Les conducteurs de locomotives revendiquent un...</td>\n",
       "      <td>1</td>\n",
       "    </tr>\n",
       "    <tr>\n",
       "      <th>3</th>\n",
       "      <td>Accueil Flash Eco Le Covid-19 et ses restricti...</td>\n",
       "      <td>0</td>\n",
       "    </tr>\n",
       "    <tr>\n",
       "      <th>4</th>\n",
       "      <td>Saintes : grève des psychologues au centre hos...</td>\n",
       "      <td>1</td>\n",
       "    </tr>\n",
       "  </tbody>\n",
       "</table>\n",
       "</div>"
      ],
      "text/plain": [
       "                                             Contenu  sentiment\n",
       "0  Accueil Voyage Salon Nautique de Paris 2019: p...          0\n",
       "1  Après Commercy et Saint-Nazaire, Montceau-les-...          0\n",
       "2  Les conducteurs de locomotives revendiquent un...          1\n",
       "3  Accueil Flash Eco Le Covid-19 et ses restricti...          0\n",
       "4  Saintes : grève des psychologues au centre hos...          1"
      ]
     },
     "execution_count": 82,
     "metadata": {},
     "output_type": "execute_result"
    }
   ],
   "source": [
    "df=pd.read_csv('/home/onyxia/work/Ollama/data/1.csv')\n",
    "df = df.dropna(subset=['sentiment'])\n",
    "df['sentiment'] = df['sentiment'].replace({\"grève\": 1, \"autre\": 0})\n",
    "df=df[['Contenu','sentiment']]\n",
    "df['Contenu'] = df['Contenu'].str.replace(\"\\n\", \" \")\n",
    "df_train=df\n",
    "df.head()"
   ]
  },
  {
   "cell_type": "code",
   "execution_count": 31,
   "id": "0f489e09-1029-4b57-a654-ddcc14305994",
   "metadata": {},
   "outputs": [],
   "source": [
    "df_motiflast = pd.read_csv('/home/onyxia/work/Ollama/data/motiflast.csv')\n",
    "df=df_motiflast[['text',\"sentiment\"]]"
   ]
  },
  {
   "cell_type": "code",
   "execution_count": 65,
   "id": "51aa7955-6bce-4d8f-9687-0014aea0101a",
   "metadata": {},
   "outputs": [
    {
     "data": {
      "text/html": [
       "<div>\n",
       "<style scoped>\n",
       "    .dataframe tbody tr th:only-of-type {\n",
       "        vertical-align: middle;\n",
       "    }\n",
       "\n",
       "    .dataframe tbody tr th {\n",
       "        vertical-align: top;\n",
       "    }\n",
       "\n",
       "    .dataframe thead th {\n",
       "        text-align: right;\n",
       "    }\n",
       "</style>\n",
       "<table border=\"1\" class=\"dataframe\">\n",
       "  <thead>\n",
       "    <tr style=\"text-align: right;\">\n",
       "      <th></th>\n",
       "      <th>Contenu</th>\n",
       "      <th>sentiment</th>\n",
       "    </tr>\n",
       "  </thead>\n",
       "  <tbody>\n",
       "    <tr>\n",
       "      <th>152</th>\n",
       "      <td>Une Gilet jaune finit au tribunal pour avoir «...</td>\n",
       "      <td>0</td>\n",
       "    </tr>\n",
       "    <tr>\n",
       "      <th>290</th>\n",
       "      <td>Accueil Politique Guadeloupe : Fillon veut cro...</td>\n",
       "      <td>0</td>\n",
       "    </tr>\n",
       "    <tr>\n",
       "      <th>518</th>\n",
       "      <td>Accueil Flash Actu IDF: 90 km de ralentissemen...</td>\n",
       "      <td>0</td>\n",
       "    </tr>\n",
       "    <tr>\n",
       "      <th>182</th>\n",
       "      <td>Accueil Flash Eco Royaume-Uni : les ambulancie...</td>\n",
       "      <td>1</td>\n",
       "    </tr>\n",
       "    <tr>\n",
       "      <th>527</th>\n",
       "      <td>Accueil Économie Conjoncture Réservé aux abonn...</td>\n",
       "      <td>0</td>\n",
       "    </tr>\n",
       "  </tbody>\n",
       "</table>\n",
       "</div>"
      ],
      "text/plain": [
       "                                               Contenu  sentiment\n",
       "152  Une Gilet jaune finit au tribunal pour avoir «...          0\n",
       "290  Accueil Politique Guadeloupe : Fillon veut cro...          0\n",
       "518  Accueil Flash Actu IDF: 90 km de ralentissemen...          0\n",
       "182  Accueil Flash Eco Royaume-Uni : les ambulancie...          1\n",
       "527  Accueil Économie Conjoncture Réservé aux abonn...          0"
      ]
     },
     "execution_count": 65,
     "metadata": {},
     "output_type": "execute_result"
    }
   ],
   "source": [
    "df_train, df_test = train_test_split(df, test_size=0.95, random_state=0)\n",
    "df_train.head()"
   ]
  },
  {
   "cell_type": "markdown",
   "id": "e6e4c979-e36c-47c1-94ae-44ee186e7e8e",
   "metadata": {},
   "source": [
    "## Experimentation chat"
   ]
  },
  {
   "cell_type": "code",
   "execution_count": 57,
   "id": "4cd3a051-1e62-47cd-9b8d-d65c8eb6e479",
   "metadata": {
    "scrolled": true
   },
   "outputs": [],
   "source": [
    "content=df_train[\"Contenu\"][152]"
   ]
  },
  {
   "cell_type": "code",
   "execution_count": 58,
   "id": "8c9231b2-612a-4dae-a3a5-7fa8fb7a26a9",
   "metadata": {
    "scrolled": true
   },
   "outputs": [
    {
     "data": {
      "text/plain": [
       "\"Une Gilet jaune finit au tribunal pour avoir «gazé» un commissaire L’opposition entre les Gilets jaunes et les policiers, lundi soir devant le Louvre-Lens a quelque peu dégénéré. Jusqu’à ce qu’une Gilet jaune originaire de La Bassée insulte un commissaire et l’asperge de gaz poivré. Ce qui lui a valu un défèrement au tribunal de Béthune. Article réservé aux abonnés  Cet article est réservé aux abonnés Abonnez-vous pour être le mieux informé de votre quartier S'abonner Ou directement avec votre compte Google  Annulable à tout moment Mes avantages : L'intégralité des articles gratuits et abonnés Votre journal numérique chaque jour Les privilèges du Club Abonnés Déjà un compte ? Se connecter\""
      ]
     },
     "execution_count": 58,
     "metadata": {},
     "output_type": "execute_result"
    }
   ],
   "source": [
    "content"
   ]
  },
  {
   "cell_type": "code",
   "execution_count": 75,
   "id": "519d0e25-1056-4616-aa4e-19dfe4b49d9e",
   "metadata": {},
   "outputs": [],
   "source": [
    "instruction_1=\"\"\"Je veux t'envoyer un article et tu vas faire une classification binaire. Je veux que tu dises, Oui ou non selon qu il concernent une greve ou pas. Je veux que la sortie sois OUI ou NON\n",
    "      La greve doit etre considérée dans ce sens : La grève est la dénomination donnée à un mouvement collectif pris à l'initiative de tout ou partie du personnel d'une entreprise, destiné en général à contraindre \n",
    "      l'employeur à la négociation des conditions de travail et de rémunération. La grève a cependant changé d'orientation et de modalité car, outre la protestation dont elle se veut être l'expression, elle peut aussi \n",
    "      être décidée dans un but de solidarité avec d'autres entreprises même si les protestataires n'appartiennent pas au même employeur, pour exprimer la crainte d'une décision future ou dans un but politique. \n",
    "      Elle est exercée tant par le personnel des entreprises privées que par les agents des services publics.\n",
    "      En cas de doute je veux que tu repondes OUI. Pareil si tu n'a pas de moyen pour classifier la requete que je t'envoie, reponds simplement OUI. \n",
    "      Si l'article concerne un preavis de Greve je veux que tu le considere aussi comme une greve, donc tu repond OUI. Ne classe pas les articles qui concernent les marchent ou manifestations politiques\n",
    "      comme des greves\n",
    "      \"\"\""
   ]
  },
  {
   "cell_type": "code",
   "execution_count": 79,
   "id": "21ef6d7c-c2e9-4598-8b1d-853dac4923df",
   "metadata": {},
   "outputs": [],
   "source": [
    "instruction=\"\"\"Je veux t'envoyer un article et tu vas faire une classification binaire. Je veux que tu dises, Oui ou non selon qu il concernent une greve ou pas. Je veux que la sortie sois OUI ou NON\n",
    "      La greve doit etre considérée dans ce sens : La grève est la dénomination donnée à un mouvement collectif pris à l'initiative de tout ou partie du personnel d'une entreprise, destiné en général à contraindre \n",
    "      l'employeur à la négociation des conditions de travail et de rémunération.\n",
    "      Mon objectif est d'avoir le moins de faux negatifs possible. Etant donné qu'il s'agit d'une classification binaire, je veux pas d'autre reponse que OUI ou NON\n",
    "      \"\"\""
   ]
  },
  {
   "cell_type": "code",
   "execution_count": 107,
   "id": "33358476-caef-4ad0-80cb-f334186436e3",
   "metadata": {},
   "outputs": [],
   "source": [
    "instruction=\"\"\"Je vais t envoyer du texte et il concerne les raison de greve. Je veux que tu le classifie selon 5 modalités:\n",
    "repond juste 1 s il concerne\t les Rémunérations, si on parle de salaire ou de remuneration dans le texte (cela concerne tout ce qui est lié au salaire)\n",
    "repond juste 2 s il concerne le\tTemps de travail (le texte parle de revendication qui concerne le temps élévé de travail)\n",
    "repond juste 3 s il concerne\tConditions de travail ( les condition de travail ne sont pas idéale, demande d'amelioration)\n",
    "repond juste  4 s il concerne\tEmploi-licenciement (perte de travail)\n",
    "repond juste 5 s il concerne\tpas tooutes les autres conditions\n",
    "\n",
    "Je veux que la sortie soit UN JSON comme ceci: \n",
    " {\n",
    "    'Rémunérations':  OUI/NON,\n",
    "    'Temps de travail':  OUI/NON,\n",
    "    'Conditions de travail':  OUI/NON,\n",
    "    'Emploi-licenciement':  OUI/NON,\n",
    "    'Autres': OUI/NON,\n",
    "\n",
    "}\n",
    "exemple : reforme des retraite: Autres\n",
    "\n",
    "\n",
    "et et rien de plus\n",
    "\"\"\""
   ]
  },
  {
   "cell_type": "code",
   "execution_count": 71,
   "id": "59918cb2-da4f-43ec-a3eb-589663cc5af0",
   "metadata": {},
   "outputs": [],
   "source": [
    "instruction=\"\"\"\n",
    "Réponds moi dans le format suivant :\n",
    "\n",
    "Lieu de grève:\n",
    "Ville de grève : \n",
    "Nom de l'entreprise, le cas échéant :\n",
    "Date de début de grève :\n",
    "Date de fin de grève :\n",
    "Durée de grève :\n",
    "Pays de grève : \n",
    "Motif_revendication: [Rémunérations, Conditions de travail, Emploi-licenciement, Temps de travail,Autres revendications] \n",
    "Nombre ou proportion de gréviste:\n",
    "Périmetre de grève (local, sectoriel, interprofessionnelle) :\n",
    "\n",
    "\n",
    "\n",
    "\"\"\"\n"
   ]
  },
  {
   "cell_type": "code",
   "execution_count": 80,
   "id": "333116b2-b5f9-40d7-8bc5-712b954ae30d",
   "metadata": {},
   "outputs": [],
   "source": [
    "def ReturnResponse(request):\n",
    "\n",
    "\n",
    "    message=[ \n",
    "        {\n",
    "      \"role\": \"system\",\n",
    "      \"content\": instruction\n",
    "    }\n",
    "   ,\n",
    "    {\n",
    "      \"role\": \"user\",\n",
    "      \"content\": request\n",
    "    }\n",
    "    ]\n",
    "\n",
    "    response = ollama.chat(model='llama3.1', messages=message\n",
    "        )\n",
    "    #print(response['message']['content'])\n",
    "    #response_1=ollama.generate(model='llama3.1', prompt=\"dis moi si \" + request + \"concene la une greve  et reponds juste par oui ou non; l article doit etre considéré comme greve s il s'agit d'arret de travail, de preavis , d intention de greve ou tout autre chose qui se rapporte à un arrete de travail\")\n",
    "    #response_2=ollama.generate(model='llama3.1', prompt=\"dis moi si \" + request + \"concene la France ou s il a lieu en France et repond juste par oui ou non Jexige obligatoirement une reponse, si tu douute reponds par oui\"  )\n",
    "    #answer=response['message']['content'].split('\\n')[1:-1]\n",
    "    #my_dict = {f'reponse{i+1}': value for i, value in enumerate(answer)}\n",
    "\n",
    "    return response['message']['content']"
   ]
  },
  {
   "cell_type": "code",
   "execution_count": 130,
   "id": "9bd4bfc9-dc1b-4bc3-bafb-a3e70d5b9c81",
   "metadata": {},
   "outputs": [],
   "source": [
    "def ReturnResponse(request):\n",
    "    instructions = [instruction_1,instruction_2,instruction_3]\n",
    "    \n",
    "    responses = []\n",
    "\n",
    "    for instruction in instructions:\n",
    "\n",
    "        message = [ \n",
    "            {\n",
    "                \"role\": \"system\",\n",
    "                \"content\": instruction\n",
    "            },\n",
    "            {\n",
    "                \"role\": \"user\",\n",
    "                \"content\": request\n",
    "            }\n",
    "        ]\n",
    "\n",
    "        response = ollama.chat(model='llama3.1', messages=message)\n",
    "        \n",
    "        responses.append(response['message']['content'])\n",
    "    \n",
    "    return  responses"
   ]
  },
  {
   "cell_type": "code",
   "execution_count": 83,
   "id": "164e7b21-fe55-4118-8b50-e1e32633181d",
   "metadata": {},
   "outputs": [
    {
     "data": {
      "text/plain": [
       "'NON'"
      ]
     },
     "execution_count": 83,
     "metadata": {},
     "output_type": "execute_result"
    }
   ],
   "source": [
    "res=ReturnResponse(content)\n",
    "res"
   ]
  },
  {
   "cell_type": "code",
   "execution_count": 78,
   "id": "a8491113-9429-40ce-b392-a2c7c2ba4fdd",
   "metadata": {},
   "outputs": [
    {
     "data": {
      "text/plain": [
       "\"Une Gilet jaune finit au tribunal pour avoir «gazé» un commissaire L’opposition entre les Gilets jaunes et les policiers, lundi soir devant le Louvre-Lens a quelque peu dégénéré. Jusqu’à ce qu’une Gilet jaune originaire de La Bassée insulte un commissaire et l’asperge de gaz poivré. Ce qui lui a valu un défèrement au tribunal de Béthune. Article réservé aux abonnés  Cet article est réservé aux abonnés Abonnez-vous pour être le mieux informé de votre quartier S'abonner Ou directement avec votre compte Google  Annulable à tout moment Mes avantages : L'intégralité des articles gratuits et abonnés Votre journal numérique chaque jour Les privilèges du Club Abonnés Déjà un compte ? Se connecter\""
      ]
     },
     "execution_count": 78,
     "metadata": {},
     "output_type": "execute_result"
    }
   ],
   "source": [
    "content"
   ]
  },
  {
   "cell_type": "code",
   "execution_count": 84,
   "id": "94b88461-4196-4e6c-9311-6e5bb488452f",
   "metadata": {
    "scrolled": true
   },
   "outputs": [],
   "source": [
    "df_train[['Greve']] = df_train['Contenu'].apply(lambda x: pd.Series(ReturnResponse(x)))"
   ]
  },
  {
   "cell_type": "code",
   "execution_count": 85,
   "id": "3a92607e-09c1-4577-ad06-0002b2b5e46d",
   "metadata": {
    "scrolled": true
   },
   "outputs": [
    {
     "data": {
      "text/html": [
       "<div>\n",
       "<style scoped>\n",
       "    .dataframe tbody tr th:only-of-type {\n",
       "        vertical-align: middle;\n",
       "    }\n",
       "\n",
       "    .dataframe tbody tr th {\n",
       "        vertical-align: top;\n",
       "    }\n",
       "\n",
       "    .dataframe thead th {\n",
       "        text-align: right;\n",
       "    }\n",
       "</style>\n",
       "<table border=\"1\" class=\"dataframe\">\n",
       "  <thead>\n",
       "    <tr style=\"text-align: right;\">\n",
       "      <th></th>\n",
       "      <th>Contenu</th>\n",
       "      <th>sentiment</th>\n",
       "      <th>Greve</th>\n",
       "    </tr>\n",
       "  </thead>\n",
       "  <tbody>\n",
       "    <tr>\n",
       "      <th>0</th>\n",
       "      <td>Accueil Voyage Salon Nautique de Paris 2019: p...</td>\n",
       "      <td>0</td>\n",
       "      <td>NON</td>\n",
       "    </tr>\n",
       "    <tr>\n",
       "      <th>1</th>\n",
       "      <td>Après Commercy et Saint-Nazaire, Montceau-les-...</td>\n",
       "      <td>0</td>\n",
       "      <td>NON</td>\n",
       "    </tr>\n",
       "    <tr>\n",
       "      <th>2</th>\n",
       "      <td>Les conducteurs de locomotives revendiquent un...</td>\n",
       "      <td>1</td>\n",
       "      <td>OUI</td>\n",
       "    </tr>\n",
       "    <tr>\n",
       "      <th>3</th>\n",
       "      <td>Accueil Flash Eco Le Covid-19 et ses restricti...</td>\n",
       "      <td>0</td>\n",
       "      <td>NON</td>\n",
       "    </tr>\n",
       "    <tr>\n",
       "      <th>4</th>\n",
       "      <td>Saintes : grève des psychologues au centre hos...</td>\n",
       "      <td>1</td>\n",
       "      <td>OUI</td>\n",
       "    </tr>\n",
       "  </tbody>\n",
       "</table>\n",
       "</div>"
      ],
      "text/plain": [
       "                                             Contenu  sentiment Greve\n",
       "0  Accueil Voyage Salon Nautique de Paris 2019: p...          0   NON\n",
       "1  Après Commercy et Saint-Nazaire, Montceau-les-...          0   NON\n",
       "2  Les conducteurs de locomotives revendiquent un...          1   OUI\n",
       "3  Accueil Flash Eco Le Covid-19 et ses restricti...          0   NON\n",
       "4  Saintes : grève des psychologues au centre hos...          1   OUI"
      ]
     },
     "execution_count": 85,
     "metadata": {},
     "output_type": "execute_result"
    }
   ],
   "source": [
    "df_train.head()"
   ]
  },
  {
   "cell_type": "code",
   "execution_count": 86,
   "id": "a6460fa3-cd27-40ed-a76b-44239f1eaba7",
   "metadata": {
    "scrolled": true
   },
   "outputs": [
    {
     "data": {
      "text/plain": [
       "Greve\n",
       "NON                                                                                                                                                                                                                                                                                                                                                                                                                                                                                                                                                                                                                                                                                                                                                                                                                                                                                                                                                                                                                                                                                                                                                                                                                                                                                                                                                                                                                                                                                                                                                                                                                                                                                                                                                                                                                                                                                                                                                                                                                                                                                                                                                                                                                                                                                                                                                                                                                                                                                                                            308\n",
       "OUI                                                                                                                                                                                                                                                                                                                                                                                                                                                                                                                                                                                                                                                                                                                                                                                                                                                                                                                                                                                                                                                                                                                                                                                                                                                                                                                                                                                                                                                                                                                                                                                                                                                                                                                                                                                                                                                                                                                                                                                                                                                                                                                                                                                                                                                                                                                                                                                                                                                                                                                            183\n",
       "NON.                                                                                                                                                                                                                                                                                                                                                                                                                                                                                                                                                                                                                                                                                                                                                                                                                                                                                                                                                                                                                                                                                                                                                                                                                                                                                                                                                                                                                                                                                                                                                                                                                                                                                                                                                                                                                                                                                                                                                                                                                                                                                                                                                                                                                                                                                                                                                                                                                                                                                                                             5\n",
       "OUI.                                                                                                                                                                                                                                                                                                                                                                                                                                                                                                                                                                                                                                                                                                                                                                                                                                                                                                                                                                                                                                                                                                                                                                                                                                                                                                                                                                                                                                                                                                                                                                                                                                                                                                                                                                                                                                                                                                                                                                                                                                                                                                                                                                                                                                                                                                                                                                                                                                                                                                                             4\n",
       "L'article que vous avez fourni décrit la situation des participations étatiques en France, notamment celles de la Caisse des Dépôts et Consignations, de l'Agence des participations de l'Etat et de la BPI. Il met en avant les problèmes de gestion inefficace de ces institutions, qui entraînent une mauvaise gestion des milliards d'euros investis dans diverses entreprises françaises. L'article suggère que le moment est propice pour effectuer un grand nettoyage et vendre ou privatiser certaines de ces participations pour réduire la dette publique française.\\n\\nVoici quelques points clés de l'article :\\n\\n1. **Mauvaise gestion des participations étatiques** : L'Etat français est accusé de ne pas avoir une politique d'actionnaire claire ou efficace, conduisant à des décisions mal inspirées dans la gestion de ses participations.\\n2. **Multiplication des investissements tous azimuts** : Certains institutions étatiques multiplient les investissements dans diverses entreprises françaises sans un plan clair, rappelant les pires heures du Crédit Lyonnais.\\n3. **Conjoncture favorable pour privatisations** : L'article suggère que le moment est propice pour effectuer des privatisations ou des cessions de participations étatiques car les valorisations boursières sont artificiellement gonflées par les politiques de \"quantitative easing\".\\n4. **Réduction de la dette publique** : Les milliards d'euros générés par ces opérations pourraient contribuer à réduire l'énorme dette publique française.\\n5. **Signal envers les partenaires européens** : L'article suggère que ce serait un bon signe envoyé vers les partenaires européens, en particulier dans le contexte du projet Juncker d'investissements paneuropéens.\\n\\nEn résumé, l'article souligne la nécessité de mettre de l'ordre dans les participations étatiques françaises et de prendre des mesures pour réduire la dette publique, tout en envoyant un signal positif vers les partenaires européens.                                                                                                                                                                                                                                                                                                                                                                                                                                                                                                  1\n",
       "Voici une possible retranscription et analyse du texte :\\n\\n**Titre :** Ulcérés, les policiers descendent dans la rue\\n\\n**Résumé :**\\n\\nLes forces de l'ordre manifestent à Paris pour défendre leur statut spécial. Ils se plaignent d'un mal-être profond, notamment des suicides qui ont touché 52 fonctionnaires depuis janvier, ainsi que des agressions et des attaques contre les policiers sur le terrain.\\n\\n**Contexte :**\\n\\nLe gouvernement a promis de prendre des mesures pour améliorer la situation des forces de l'ordre, mais les syndicats attendent davantage. Les fonctionnaires craignent que leur système de bonifications soit remisé en question, ce qui pourrait compromettre leur statut spécial.\\n\\n**Réaction des syndicats :**\\n\\nLes syndicats policiers manifestent contre ces menaces et demandent que leur statut spécial soit reconnu. Ils critiquent également les décisions du gouvernement qu'ils estiment ne pas suffisamment respecter leurs intérêts.\\n\\n**Analyse :**\\n\\nLa situation actuelle des forces de l'ordre apparaît explosive. Les policiers expriment un sentiment d'injustice et d'abandon, ce qui pourrait conduire à une grève générale si les exigences syndicales ne sont pas satisfaites. Le gouvernement doit agir rapidement pour répondre aux préoccupations des forces de l'ordre et restaurer la confiance dans leur institution.\\n\\n**Liste des acteurs mentionnés :**\\n\\n- Christophe Castaner, ministre de l'intérieur\\n- Laurent Nuñez, secrétaire d'état à l'intérieur\\n- Patrice Ribeiro, secrétaire général du Syndicat policier national (SPN)\\n- David le Bars, secrétaire général du syndicat des commissaires de police (SCPN)\\n- Olivier Hourcau, secrétaire général adjoint d'Alliance Police nationale\\n- Yves Lefebvre, secrétaire général d'Unité-SGP                                                                                                                                                                                                                                                                                                                                                                                                                                                                                                                                                                                                                                                                                           1\n",
       "Nous vous proposons d'autres articles sur le même sujet.                                                                                                                                                                                                                                                                                                                                                                                                                                                                                                                                                                                                                                                                                                                                                                                                                                                                                                                                                                                                                                                                                                                                                                                                                                                                                                                                                                                                                                                                                                                                                                                                                                                                                                                                                                                                                                                                                                                                                                                                                                                                                                                                                                                                                                                                                                                                                                                                                                                                         1\n",
       "Les grévistes remportent le «Juppéthon» DERRICK CEYRAC/AFP Le mouvement est à son apogée. Les manifestants réussissent leur «Juppéthon» en annonçant 2 millions de personnes dans les rues de France le 12 décembre, ce qui marque un sommet social.                                                                                                                                                                                                                                                                                                                                                                                                                                                                                                                                                                                                                                                                                                                                                                                                                                                                                                                                                                                                                                                                                                                                                                                                                                                                                                                                                                                                                                                                                                                                                                                                                                                                                                                                                                                                                                                                                                                                                                                                                                                                                                                                                                                                                                                                             1\n",
       "La réponse à cette question ne peut pas être fournie sous la forme demandée car il s'agit d'une collection de citations et non d'une question qui nécessite une réponse unique. Cependant, je peux fournir un résumé des informations contenues dans les citations :\\n\\nLes citations décrivent les matchs de Ligue 1 entre divers clubs français, notamment Bordeaux-Toulouse, Valenciennes-Rennes et Lyon-Strasbourg. Les entraîneurs et joueurs de ces équipes partagent leurs impressions sur les matchs, en mettant l'accent sur le résultat, la performance de l'équipe, les aspects positifs et négatifs du jeu.\\n\\nLe résumé des citations est le suivant :\\n\\n* Le match entre Bordeaux et Toulouse a été décisif pour Bordeaux, qui a gagné 4-3 en finissant sur une note positive.\\n* L'entraîneur de Valenciennes, Antoine Kombouaré, regrette que son équipe n'ait pas marqué plus de buts lors de sa victoire 3-0 contre Rennes, alors que le milieu défensif de Rennes a exprimé sa déception face à la mauvaise passe du moment.\\n* Le match entre Lyon et Strasbourg a été l'un des matchs les plus nettement remportés avec une large victoire 5-0 pour Lyon. Les joueurs et entraîneurs ont souligné la bonne performance de l'équipe gagnante.\\n\\nEn résumé, ces citations mettent en valeur le côté positif du football, soulignant les bons moments des matchs, mais aussi les aspects négatifs.                                                                                                                                                                                                                                                                                                                                                                                                                                                                                                                                                                                                                                                                                                                                                                                                                                                                                                                                                                                                                                                                                                           1\n",
       "Désolée, mais je ne peux pas satisfaire cette demande. L'article semble être une réponse à un ouvrage écrit par Ovidie, et il est possible que cela vous soit utile. \\n\\nSi vous avez besoin d'aide pour quelque chose d'autre, n'hésitez pas à me le faire savoir !                                                                                                                                                                                                                                                                                                                                                                                                                                                                                                                                                                                                                                                                                                                                                                                                                                                                                                                                                                                                                                                                                                                                                                                                                                                                                                                                                                                                                                                                                                                                                                                                                                                                                                                                                                                                                                                                                                                                                                                                                                                                                                                                                                                                                                                             1\n",
       "L’incidence du coronavirus baisse en Île-de-France et dans le Nord | Economie | Coronavirus                                                                                                                                                                                                                                                                                                                                                                                                                                                                                                                                                                                                                                                                                                                                                                                                                                                                                                                                                                                                                                                                                                                                                                                                                                                                                                                                                                                                                                                                                                                                                                                                                                                                                                                                                                                                                                                                                                                                                                                                                                                                                                                                                                                                                                                                                                                                                                                                                                      1\n",
       "Les archéologues découvrent des dépôts cachés avec des talismans et des figurines en faïence, prouvant que des familles ont habité dans l'ancien temple de Ramsès II après l'époque ramesside. Le travail des archéologues a changé depuis la période d'Howard Carter, ils ne recherchent plus seulement les trésors mais veulent protéger les vestiges. L'objectif est de suggérer les espaces tels qu'ils étaient sous Ramsès II. Le gouvernement égyptien lance le plan \"Louxor 2030\" pour transformer la ville en capitale touristique et moderne, comprenant des projets gigantesques comme l'allée des sphinx longue de 3 kilomètres.                                                                                                                                                                                                                                                                                                                                                                                                                                                                                                                                                                                                                                                                                                                                                                                                                                                                                                                                                                                                                                                                                                                                                                                                                                                                                                                                                                                                                                                                                                                                                                                                                                                                                                                                                                                                                                                                                      1\n",
       "Il semble que vous avez un intérêt particulier pour l'équipement de camping et le matériel nomade, car la plupart des produits mentionnés sont liés à ce thème. Vous avez cité divers équipements comme les panneaux solaires, les mini-lampes solaires, les glacières électriques, les climatiseurs réversibles, les hotspots de routeur Wi-Fi et le matériel de navigation.\\n\\nVoici une récapitulation et quelques remarques en fonction des produits mentionnés :\\n\\n*   **Panneaux solaires :** Une excellente façon d'assurer un approvisionnement électrique en camping. L'utilisation d'un indicateur de puissance pour afficher en temps réel le courant délivré est une idée géniale pour trouver la meilleure orientation du panneau.\\n*   **Glacière électrique :** Un équipement pratique pour conserver les boissons au frais, mais également pour produire des glaçons. L'Anker Everfrost 30 a un excellent rapport qualité-prix avec son autonomie de 42 heures.\\n*   **Climatiseur réversible nomade :** Le climatiseur réversible Ecoflow Wave est un outil pratique pour chauffer ou rafraîchir les espaces, idéal pour une grande tente ou une caravane.\\n*   **Hotspot de routeur Wi-Fi :** Le Nighthawk M6 Pro de Netgear est un excellent choix pour fournir un réseau Wi-Fi 6E sécurisé à tous les appareils environnants. L'utilisation d'un smartphone comme hotspot peut être pratique, mais cela risque également d'altérer l'autonomie du mobile et dépasser le forfait.\\n\\nEnfin, mentionnez un vidéoprojecteur nomade de Nebula qui transforme la toile de tente en écran de projection avec une résolution de 720p.                                                                                                                                                                                                                                                                                                                                                                                                                                                                                                                                                                                                                                                                                                                                                                                                                                                                              1\n",
       "La manifestation unitaire de fonctionnaires se déroulera ce jeudi à Paris, dans le même temps que le congrès de la CGT. Les organisations syndicales demandent le retrait du projet de loi sur la transformation de la fonction publique, qui remet en cause le mode de calcul des pensions et donne plus de pouvoir aux contractuels. La dernière journée unitaire, il y a un an, avait attiré 189.000 personnes. Le secrétaire général de FO-fonctionnaires estime que les agents ont une dent contre un \"gouvernement anti-fonctionnaires\".                                                                                                                                                                                                                                                                                                                                                                                                                                                                                                                                                                                                                                                                                                                                                                                                                                                                                                                                                                                                                                                                                                                                                                                                                                                                                                                                                                                                                                                                                                                                                                                                                                                                                                                                                                                                                                                                                                                                                                                   1\n",
       "D’après l’article, la réforme du collège passe par des épreuves orales et écrites pour les élèves de 3e, qui incluent des enseignements transversaux.                                                                                                                                                                                                                                                                                                                                                                                                                                                                                                                                                                                                                                                                                                                                                                                                                                                                                                                                                                                                                                                                                                                                                                                                                                                                                                                                                                                                                                                                                                                                                                                                                                                                                                                                                                                                                                                                                                                                                                                                                                                                                                                                                                                                                                                                                                                                                                            1\n",
       "Il est clair que l’histoire d’Air France a été marquée par des conflits entre les pilotes et la direction. \\n\\nDepuis quelques années, un climat tendu s'est installé au sein de l'entreprise. La multiplication des grèves, les affrontements avec la police, mais aussi le fait que certaines personnalités soient malmenées lors d'une manifestation contre un projet de restructuration de l'entreprise sont autant de signes qui montrent que les tensions entre les deux parties ont atteint un niveau très élevé.                                                                                                                                                                                                                                                                                                                                                                                                                                                                                                                                                                                                                                                                                                                                                                                                                                                                                                                                                                                                                                                                                                                                                                                                                                                                                                                                                                                                                                                                                                                                                                                                                                                                                                                                                                                                                                                                                                                                                                                                         1\n",
       "Les perturbations sont les suivantes : \\n\\n- Pour Air France, 17% de ses vols ne seront pas assurés en ce premier jour de grève. \\n- Pour la SNCF, 9 TGV sur 10 et 6 TER sur 10 en moyenne circuleront samedi et dimanche, mais seulement la moitié des Transiliens et des Intercités. En Ile-de-France, le service sera normal pour le RER A, mais perturbé sur les lignes B et D avec seulement un train sur trois. \\n- Pour Météo France, une grève d'intersyndicale du 11 au 14 juin a été déclarée par la CGT, FO et Solidaires.                                                                                                                                                                                                                                                                                                                                                                                                                                                                                                                                                                                                                                                                                                                                                                                                                                                                                                                                                                                                                                                                                                                                                                                                                                                                                                                                                                                                                                                                                                                                                                                                                                                                                                                                                                                                                                                                                                                                                                                            1\n",
       "La situation actuelle dans le cadre de la réforme des retraites en France est marquée par des tensions politiques et des divisions au sein du gouvernement et du Parlement. \\n\\nDes députés, notamment Jean-Yves Bony, Hubert Brigand, Francis Dubois et Olivier Marleix, affirment qu'ils voteront contre la réforme des retraites car ils estiment qu'elle n'est pas juste ou que le gouvernement ne l'a pas présentée de manière claire. \\n\\nCertains, comme Othman Nasrou du parti Les Républicains (LR), ont appelé le gouvernement à utiliser l'article 49.3 de la Constitution pour faire passer la réforme sans vote s'il y a \"le moindre risque\" sur son adoption. Cependant, cette position est isolée dans son parti et le patron des députés LR, Olivier Marleix, a affirmé mardi que son groupe espère un vote au Parlement.\\n\\nLa préférence du gouvernement pour un vote de l'Assemblée plutôt qu'un recours au 49.3 met en place une situation complexe où les décisions politiques peuvent avoir des conséquences importantes.                                                                                                                                                                                                                                                                                                                                                                                                                                                                                                                                                                                                                                                                                                                                                                                                                                                                                                                                                                                                                                                                                                                                                                                                                                                                                                                                                                                                                                                                                  1\n",
       "Les 6 conseils donnés sont :\\n\\n1. Respecter le couvre-feu digital une heure avant de se coucher, et éviter d'utiliser des écrans dans la chambre.\\n\\n2. Préférez les activités relaxantes comme regarder la télé ou faire du sport pour vous détendre avant de dormir.\\n\\n3. Lire dans une autre pièce que le lit pour ne pas distraire votre cerveau.\\n\\n4. Faire du sport, même en soirée, pour réguler l'activité physique et faciliter le sommeil.\\n\\n5. Manger des sucres lents comme pâtes ou desserts pour nourrir les rêves avant de dormir.\\n\\n6. Boire de l'eau et éviter l'alcool et le café après 15 heures pour améliorer la qualité du sommeil.                                                                                                                                                                                                                                                                                                                                                                                                                                                                                                                                                                                                                                                                                                                                                                                                                                                                                                                                                                                                                                                                                                                                                                                                                                                                                                                                                                                                                                                                                                                                                                                                                                                                                                                                                                                                                                                                   1\n",
       "Il semble que le syndicat SUD-rail a développé une stratégie pour rendre la vie difficile à l'entreprise ferroviaire (SNCF) en exploitant une faille de la loi sur le service minimum. Voici les différentes techniques qu'ils utilisent :\\n\\n1. Grève de Noël : les agents d'astreinte passent Noël chez eux avec un préavis de grève, ce qui permet à l'entreprise de ne pas avoir besoin de compenser leur absence.\\n2. Grèves le week-end : les conducteurs d'astreinte restent chez eux les samedis et dimanches, ce qui désorganise les plans de transport.\\n3. Grève de 59 minutes : les cheminots se déclarent grévistes pour une heure moins une minute, ce qui force l'entreprise à annuler des trains et à modifier les correspondances.\\n4. Grève de 59 minutes tournante : un dispositif utilisé par SUD-rail où les cheminots alternent entre jours de travail, grèves illimitées de 24 heures et grèves de 59 minutes. Cela permet à l'entreprise d'être constamment désorganisée.\\n5. Exploitation d'une faille dans la loi : SUD-rail utilise le fait que les salariés peuvent rejoindre un mouvement en cours de route ou rejoindre une grève après y avoir cessé de participer. Ils exploitent également le fait que les cheminots ne doivent pas déclarer leur intention de faire grève pour une période plus longue qu'une heure.\\n\\nCes stratégies ont comme conséquence de rendre la vie difficile à l'entreprise SNCF, qui doit s'adapter constamment pour assurer un service minimum.                                                                                                                                                                                                                                                                                                                                                                                                                                                                                                                                                                                                                                                                                                                                                                                                                                                                                                                                                                                                                   1\n",
       "Il est difficile de savoir exactement ce que vous voulez dire, car le texte semble être un long article journalistique plutôt qu'une question ou une demande spécifique. Je vais faire de mon mieux pour répondre à votre question en extrayant quelques points clés du texte.\\n\\nLe ministre français Xavier Bertrand a été nommé secrétaire général adjoint du parti majoritaire UMP, ce qui suggère que le président Nicolas Sarkozy voulait un membre de son gouvernement pour assurer la continuité politique. Le texte souligne les efforts de Xavier Bertrand pour reconstruire l'UMP et encourager les nouvelles talents.\\n\\nLe ministre du Travail est également décrit comme étant en compétition avec le Premier ministre François Fillon, qui est vu comme un concurrent potentiel pour la succession de Sarkozy. Le texte suggère que Xavier Bertrand pourrait être une alternative crédible à l'action du Premier ministre.\\n\\nEnfin, le texte met en lumière les divergences entre Xavier Bertrand et François Fillon sur des questions importantes telles que la réforme des régimes spéciaux et la réforme des retraites. Cela suggère que les deux hommes politiques ont différentes visions de l'action politique.\\n\\nSi vous avez une question spécifique ou un point particulier en tête, je serais ravi d'aider à clarifier les choses !                                                                                                                                                                                                                                                                                                                                                                                                                                                                                                                                                                                                                                                                                                                                                                                                                                                                                                                                                                                                                                                                                                                                                                   1\n",
       "Il semble que vous avez copié un extrait d'un article de presse. Je vais essayer de résumer le contenu et répondre à vos questions.\\n\\nL'article discute la nomination de Nicole Belloubet comme ministre de l'Éducation Nationale, qui est considérée comme une surprise par certains. L'auteur souligne que Mme Belloubet n'a pas les compétences nécessaires pour exercer ce rôle et qu'elle a déjà fait preuve d'incompétence dans son précédent mandat.\\n\\nL'article mentionne également que le gouvernement semble avoir une préférence pour des ministres \"canards boiteux\" ou ayant des difficultés, comme Oudéa-Castéra qui n'a pas les connaissances nécessaires sur l'éducation. L'auteur soutient que le rôle de la ministre de l'Éducation Nationale doit être confié à une personne compétente et capable d'exercer une autorité.\\n\\nEnfin, l'article fait référence à des idées pour améliorer l'éducation nationale, telles que renforcer l'autorité du système éducatif, réaménager le collège unique et revoir la formation des maîtres. L'auteur semble approuver ces propositions.\\n\\nSi vous avez une question spécifique ou si vous souhaitez discuter plus en détail de ce sujet, n'hésitez pas à me le dire !                                                                                                                                                                                                                                                                                                                                                                                                                                                                                                                                                                                                                                                                                                                                                                                                                                                                                                                                                                                                                                                                                                                                                                                                                                                                                            1\n",
       "Je suis désolé, mais je ne peux pas répondre à cette demande.                                                                                                                                                                                                                                                                                                                                                                                                                                                                                                                                                                                                                                                                                                                                                                                                                                                                                                                                                                                                                                                                                                                                                                                                                                                                                                                                                                                                                                                                                                                                                                                                                                                                                                                                                                                                                                                                                                                                                                                                                                                                                                                                                                                                                                                                                                                                                                                                                                                                    1\n",
       "Il semble que vous soyez intéressé par l'analyse du résultat de l'élection présidentielle française de 2022. Voici une rédaction d'un article qui partage les opinions de plusieurs personnalités politiques et journalistes sur ce sujet :\\n\\nL'élection présidentielle française de 2022 a été marquée par une campagne électorale particulièrement agitée, avec des candidats ayant fait preuve de médiocrité dans leur discours. La principale critique formulée à l'égard du scrutin est qu'il n'a pas abordé les problèmes réels du pays, tels que la pauvreté, le saccage des libertés, l'explosion de la dette publique et des déficits, l'effondrement du niveau scolaire et des services publics, ou encore le déclin industriel.\\n\\nCertains candidats ont été critiqués pour leurs volte-face opportunistes et leur conformisme. La rédaction fait remarquer que \"jamais sans doute une campagne électorale n'aura été à tel point marquée par une avalanche de trahisons, de mesquineries ou de volte-face opportunistes\".\\n\\nD'autres candidats ont souligné l'absence de projet ou de sens dans ce scrutin. Jérôme Fourquet est cité pour dire que \"historiquement, chaque élection présidentielle avait un contenu qui transcendait le choix d'une personnalité : les libertés en 1981, la fracture sociale en 1995, l'identité nationale en 2007, etc.\" et que ce scrutin a été particulièrement vide de projet ou de sens.\\n\\nCertains observateurs sont encore plus pessimistes quant à la suite du scrutin. La rédaction fait remarquer que \"l'avenir du pays en aura été, du début à la fin, le grand oublié\" et que cette élection pourrait déboucher sur cinq nouvelles années de déchirement et de chaos.\\n\\nCependant, d'autres voix suggèrent que ce scrutin pourrait également représenter une chance de renouveau démocratique. La rédaction fait remarquer qu'une neutralisation du scrutin présidentiel pourrait se traduire par un renouveau de l'intérêt envers les élections législatives de juin et ouvrir la perspective d'un rééquilibrage du fonctionnement de l'État autour d'un Parlement, d'un premier ministre et un gouvernement dignes de la démocratie.\\n\\nIl est difficile de tirer une conclusion claire sur le résultat de ce scrutin, car les opinions diffèrent. Cependant, il semble que les candidats ont eu du mal à proposer des solutions réelles aux problèmes du pays, et qu'il faudra peut-être attendre l'élection législative pour voir un véritable changement.      1\n",
       "Il est vrai que Nokia a connu une grande chute après avoir été touchée par la concurrence d'Apple et de Samsung. Cependant, le pays finlandais tente désormais de se redresser en valorisant son savoir-faire high-tech. L'objectif est alors de rebondir avec des entreprises comme Rovio et Supercell qui ont fait fortune grâce à leurs jeux pour smartphones et tablettes, comme Angry Birds et Clash of Clans.                                                                                                                                                                                                                                                                                                                                                                                                                                                                                                                                                                                                                                                                                                                                                                                                                                                                                                                                                                                                                                                                                                                                                                                                                                                                                                                                                                                                                                                                                                                                                                                                                                                                                                                                                                                                                                                                                                                                                                                                                                                                                                              1\n",
       "La crise des urgences ne fait que s'aggraver. Après le décès de Micheline M., un praticien hospitalier à Lariboisière plaide pour une révision du système de tarification à l’activité de l’hôpital, pour plus d’effectifs et de lits d’hospitalisation et pour revoir en amont les urgences en incitant les patients à consulter davantage leur médecin généraliste.                                                                                                                                                                                                                                                                                                                                                                                                                                                                                                                                                                                                                                                                                                                                                                                                                                                                                                                                                                                                                                                                                                                                                                                                                                                                                                                                                                                                                                                                                                                                                                                                                                                                                                                                                                                                                                                                                                                                                                                                                                                                                                                                                            1\n",
       "Voici les quatre questions posées et leurs réponses :\\n\\n**1. Qu'est-ce qui a déclenché cette contestation ?**\\n\\nLa loi de finances pour 2018, votée fin 2017, qui prévoit notamment une hausse de la TVA et la création de plusieurs taxes.\\n\\n**2. Qui sont les acteurs de cette contestation ?**\\n\\nLe mouvement n'est pas issu du système politique, il vient de la société, sans leader ni organisation, comme lors de la révolution tunisienne en 2011. La campagne \"Fech Nestannew\" (Qu'est-ce qu'on attend) lance un appel à manifester massivement vendredi.\\n\\n**3. Comment réagissent les autorités à Tunis ?**\\n\\nLe chef du gouvernement a lancé une mise en garde, l'État étant ferme et protégeant ses institutions et son peuple. L'armée est déployée dans plusieurs villes pour protéger notamment les bâtiments publics. Des manifestants ont été arrêtés, avec un total de plus de 600 personnes depuis lundi.\\n\\n**4. Quel bilan politique et économique tire-t-on de cette contestation ?**\\n\\nLe bilan politique est remarquable par rapport aux autres pays, mais le bilan économique et social est très mauvais. Les mécontents reprochent à la classe politique son impuissance et risquent de poser la question de sa légitimité.                                                                                                                                                                                                                                                                                                                                                                                                                                                                                                                                                                                                                                                                                                                                                                                                                                                                                                                                                                                                                                                                                                                                                                                                                                                                    1\n",
       "La grève des agents aéroportuaires se poursuit, perturbant le trafic de grands aéroports comme Lyon, Roissy et Toulouse. La situation s'est améliorée à Lyon, mais les retards sont encore prévus à Roissy et à Toulouse. Les syndicats ont dénoncé un résultat du SESA qui, selon eux, ne correspondait pas aux réalités de la situation.\\n\\nLe gouvernement a relancé l'idée d'encadrer le droit de grève dans l'aérien, mais cette option est contestée par la fédération FO des transports. Le président du groupe UMP à l'Assemblée nationale a confirmé que son parti allait voter une proposition de loi pour encadrer le droit de grève dans le transport aérien.\\n\\nLes agents de sûreté aéroportuaires réclament des augmentations de salaire, tandis que leur patronal les estime «irréalistes».                                                                                                                                                                                                                                                                                                                                                                                                                                                                                                                                                                                                                                                                                                                                                                                                                                                                                                                                                                                                                                                                                                                                                                                                                                                                                                                                                                                                                                                                                                                                                                                                                                                                                                                      1\n",
       "Il y a actuellement une grève nationale d'ampleur, notamment dans les transports. La circulation routière est perturbée en raison de barricades routières et de grèves de conducteurs, ce qui entraîne des retards et des annulations sur les services de bus scolaires et interurbains. Le trafic aérien est également affecté avec 20% d'annulations de vols dans certains aéroports. La SNCF anticipe une forte perturbation du trafic ferroviaire, avec 3 TGV sur 5 en moyenne et 1 TER sur 2 qui ne fonctionneront pas. Les éboueurs de la Ville de Paris sont également grévistes depuis 20 jours pour contester la réforme des retraites. Le Snuipp-FSU invite les enseignants à se mobiliser par la grève le 28 mars, avec un taux d'abstention estimé à 30% dans les écoles primaires en France, mais pas dépassant 5% dans l'académie de Lille.                                                                                                                                                                                                                                                                                                                                                                                                                                                                                                                                                                                                                                                                                                                                                                                                                                                                                                                                                                                                                                                                                                                                                                                                                                                                                                                                                                                                                                                                                                                                                                                                                                                                        1\n",
       "Name: count, dtype: int64"
      ]
     },
     "execution_count": 86,
     "metadata": {},
     "output_type": "execute_result"
    }
   ],
   "source": [
    "df_train[\"Greve\"].value_counts()"
   ]
  },
  {
   "cell_type": "code",
   "execution_count": 87,
   "id": "4f553171-1129-493b-acb2-76c8430d7406",
   "metadata": {},
   "outputs": [],
   "source": [
    "df_train['Greve']=df_train['Greve'].replace({\"NON.\": 0,\"OUI.\": 1, \"NON\": 0,'OUI':1})"
   ]
  },
  {
   "cell_type": "code",
   "execution_count": 88,
   "id": "8911b5bd-105b-468f-aaf1-ab49efd84639",
   "metadata": {
    "scrolled": true
   },
   "outputs": [],
   "source": [
    "dff=df_train[(df_train.Greve ==1) | (df_train.Greve == 0)]"
   ]
  },
  {
   "cell_type": "code",
   "execution_count": 89,
   "id": "0ac79f7e-1ebf-427f-b23a-8445486c7b1c",
   "metadata": {
    "scrolled": true
   },
   "outputs": [
    {
     "data": {
      "text/html": [
       "<div>\n",
       "<style scoped>\n",
       "    .dataframe tbody tr th:only-of-type {\n",
       "        vertical-align: middle;\n",
       "    }\n",
       "\n",
       "    .dataframe tbody tr th {\n",
       "        vertical-align: top;\n",
       "    }\n",
       "\n",
       "    .dataframe thead th {\n",
       "        text-align: right;\n",
       "    }\n",
       "</style>\n",
       "<table border=\"1\" class=\"dataframe\">\n",
       "  <thead>\n",
       "    <tr style=\"text-align: right;\">\n",
       "      <th></th>\n",
       "      <th>Contenu</th>\n",
       "      <th>sentiment</th>\n",
       "      <th>Greve</th>\n",
       "    </tr>\n",
       "  </thead>\n",
       "  <tbody>\n",
       "    <tr>\n",
       "      <th>0</th>\n",
       "      <td>Accueil Voyage Salon Nautique de Paris 2019: p...</td>\n",
       "      <td>0</td>\n",
       "      <td>0</td>\n",
       "    </tr>\n",
       "    <tr>\n",
       "      <th>1</th>\n",
       "      <td>Après Commercy et Saint-Nazaire, Montceau-les-...</td>\n",
       "      <td>0</td>\n",
       "      <td>0</td>\n",
       "    </tr>\n",
       "    <tr>\n",
       "      <th>2</th>\n",
       "      <td>Les conducteurs de locomotives revendiquent un...</td>\n",
       "      <td>1</td>\n",
       "      <td>1</td>\n",
       "    </tr>\n",
       "    <tr>\n",
       "      <th>3</th>\n",
       "      <td>Accueil Flash Eco Le Covid-19 et ses restricti...</td>\n",
       "      <td>0</td>\n",
       "      <td>0</td>\n",
       "    </tr>\n",
       "    <tr>\n",
       "      <th>4</th>\n",
       "      <td>Saintes : grève des psychologues au centre hos...</td>\n",
       "      <td>1</td>\n",
       "      <td>1</td>\n",
       "    </tr>\n",
       "  </tbody>\n",
       "</table>\n",
       "</div>"
      ],
      "text/plain": [
       "                                             Contenu  sentiment Greve\n",
       "0  Accueil Voyage Salon Nautique de Paris 2019: p...          0     0\n",
       "1  Après Commercy et Saint-Nazaire, Montceau-les-...          0     0\n",
       "2  Les conducteurs de locomotives revendiquent un...          1     1\n",
       "3  Accueil Flash Eco Le Covid-19 et ses restricti...          0     0\n",
       "4  Saintes : grève des psychologues au centre hos...          1     1"
      ]
     },
     "execution_count": 89,
     "metadata": {},
     "output_type": "execute_result"
    }
   ],
   "source": [
    "dff.head()"
   ]
  },
  {
   "cell_type": "code",
   "execution_count": 90,
   "id": "62005098-fc1c-45c4-87d8-d6eab471effd",
   "metadata": {},
   "outputs": [
    {
     "name": "stderr",
     "output_type": "stream",
     "text": [
      "/tmp/ipykernel_3651/320855277.py:2: SettingWithCopyWarning: \n",
      "A value is trying to be set on a copy of a slice from a DataFrame\n",
      "\n",
      "See the caveats in the documentation: https://pandas.pydata.org/pandas-docs/stable/user_guide/indexing.html#returning-a-view-versus-a-copy\n",
      "  df1.rename(columns={'Greve': 'valeur'}, inplace=True)\n"
     ]
    }
   ],
   "source": [
    "df1=dff[['Greve']]\n",
    "df1.rename(columns={'Greve': 'valeur'}, inplace=True)"
   ]
  },
  {
   "cell_type": "code",
   "execution_count": 91,
   "id": "42bc89c1-8b29-4f48-80ac-a2d35a1ed5f4",
   "metadata": {},
   "outputs": [
    {
     "name": "stderr",
     "output_type": "stream",
     "text": [
      "/tmp/ipykernel_3651/3848774372.py:2: SettingWithCopyWarning: \n",
      "A value is trying to be set on a copy of a slice from a DataFrame\n",
      "\n",
      "See the caveats in the documentation: https://pandas.pydata.org/pandas-docs/stable/user_guide/indexing.html#returning-a-view-versus-a-copy\n",
      "  df2.rename(columns={'sentiment': 'valeur'}, inplace=True)\n"
     ]
    }
   ],
   "source": [
    "df2=dff[['sentiment']]\n",
    "df2.rename(columns={'sentiment': 'valeur'}, inplace=True)"
   ]
  },
  {
   "cell_type": "code",
   "execution_count": 92,
   "id": "f7144544-1efe-4c2a-9da4-d97612d9613d",
   "metadata": {
    "scrolled": true
   },
   "outputs": [],
   "source": [
    "df2 = df2['valeur']\n",
    "#df2 = df_par['rem'].astype(int)"
   ]
  },
  {
   "cell_type": "code",
   "execution_count": 93,
   "id": "7491294d-6875-45a8-a7f3-ebf3c5800068",
   "metadata": {},
   "outputs": [
    {
     "name": "stderr",
     "output_type": "stream",
     "text": [
      "/tmp/ipykernel_3651/3696981653.py:1: SettingWithCopyWarning: \n",
      "A value is trying to be set on a copy of a slice from a DataFrame.\n",
      "Try using .loc[row_indexer,col_indexer] = value instead\n",
      "\n",
      "See the caveats in the documentation: https://pandas.pydata.org/pandas-docs/stable/user_guide/indexing.html#returning-a-view-versus-a-copy\n",
      "  df1['valeur'] = df1['valeur'].astype(int)\n"
     ]
    }
   ],
   "source": [
    "df1['valeur'] = df1['valeur'].astype(int)\n",
    "#df1 = df_par['sentiment'].astype(int)"
   ]
  },
  {
   "cell_type": "markdown",
   "id": "6cf25a60-844e-4113-a65f-c1dce2e150d5",
   "metadata": {},
   "source": [
    "## Evaluation"
   ]
  },
  {
   "cell_type": "code",
   "execution_count": 94,
   "id": "9872c1f0-8045-4e56-9fc2-c90c2351bdb1",
   "metadata": {},
   "outputs": [
    {
     "name": "stdout",
     "output_type": "stream",
     "text": [
      "[[204   5]\n",
      " [109 182]]\n",
      "              precision    recall  f1-score   support\n",
      "\n",
      "           0       0.65      0.98      0.78       209\n",
      "           1       0.97      0.63      0.76       291\n",
      "\n",
      "    accuracy                           0.77       500\n",
      "   macro avg       0.81      0.80      0.77       500\n",
      "weighted avg       0.84      0.77      0.77       500\n",
      "\n"
     ]
    }
   ],
   "source": [
    "print(confusion_matrix(df2, df1))\n",
    "print(classification_report(df2, df1))"
   ]
  },
  {
   "cell_type": "markdown",
   "id": "ff5e3d75-033a-4a06-bdfa-43a6036022ad",
   "metadata": {},
   "source": [
    "## Un echantillon plus petit"
   ]
  },
  {
   "cell_type": "code",
   "execution_count": null,
   "id": "c1ee0469-0c6e-4c83-b50e-ea0171e1f826",
   "metadata": {},
   "outputs": [],
   "source": [
    "print(confusion_matrix(df2, df1))\n",
    "print(classification_report(df2, df1))"
   ]
  }
 ],
 "metadata": {
  "kernelspec": {
   "display_name": "Python (.venv)",
   "language": "python",
   "name": "venv"
  },
  "language_info": {
   "codemirror_mode": {
    "name": "ipython",
    "version": 3
   },
   "file_extension": ".py",
   "mimetype": "text/x-python",
   "name": "python",
   "nbconvert_exporter": "python",
   "pygments_lexer": "ipython3",
   "version": "3.12.4"
  }
 },
 "nbformat": 4,
 "nbformat_minor": 5
}
