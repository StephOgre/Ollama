{
 "cells": [
  {
   "cell_type": "code",
   "execution_count": 4,
   "id": "f740cc8b-2e2b-4148-9000-1b87bafd0d99",
   "metadata": {},
   "outputs": [],
   "source": [
    "import ollama\n",
    "import pandas as pd\n",
    "import re\n",
    "from sklearn.model_selection import train_test_split\n",
    "import os\n",
    "from sklearn.metrics import classification_report, confusion_matrix, accuracy_score"
   ]
  },
  {
   "cell_type": "code",
   "execution_count": 3,
   "id": "044e73dc-826d-4f44-827a-d21800c1c307",
   "metadata": {
    "scrolled": true
   },
   "outputs": [
    {
     "name": "stdout",
     "output_type": "stream",
     "text": [
      "Collecting scikit-learn\n",
      "  Downloading scikit_learn-1.5.1-cp312-cp312-manylinux_2_17_x86_64.manylinux2014_x86_64.whl.metadata (12 kB)\n",
      "Requirement already satisfied: numpy>=1.19.5 in ./.venv/lib/python3.12/site-packages (from scikit-learn) (1.26.4)\n",
      "Collecting scipy>=1.6.0 (from scikit-learn)\n",
      "  Downloading scipy-1.14.0-cp312-cp312-manylinux_2_17_x86_64.manylinux2014_x86_64.whl.metadata (60 kB)\n",
      "\u001b[2K     \u001b[90m━━━━━━━━━━━━━━━━━━━━━━━━━━━━━━━━━━━━━━━━\u001b[0m \u001b[32m60.8/60.8 kB\u001b[0m \u001b[31m9.6 MB/s\u001b[0m eta \u001b[36m0:00:00\u001b[0m\n",
      "\u001b[?25hRequirement already satisfied: joblib>=1.2.0 in ./.venv/lib/python3.12/site-packages (from scikit-learn) (1.4.2)\n",
      "Collecting threadpoolctl>=3.1.0 (from scikit-learn)\n",
      "  Downloading threadpoolctl-3.5.0-py3-none-any.whl.metadata (13 kB)\n",
      "Downloading scikit_learn-1.5.1-cp312-cp312-manylinux_2_17_x86_64.manylinux2014_x86_64.whl (13.1 MB)\n",
      "\u001b[2K   \u001b[90m━━━━━━━━━━━━━━━━━━━━━━━━━━━━━━━━━━━━━━━━\u001b[0m \u001b[32m13.1/13.1 MB\u001b[0m \u001b[31m20.5 MB/s\u001b[0m eta \u001b[36m0:00:00\u001b[0m:00:01\u001b[0m00:01\u001b[0m\n",
      "\u001b[?25hDownloading scipy-1.14.0-cp312-cp312-manylinux_2_17_x86_64.manylinux2014_x86_64.whl (40.8 MB)\n",
      "\u001b[2K   \u001b[90m━━━━━━━━━━━━━━━━━━━━━━━━━━━━━━━━━━━━━━━━\u001b[0m \u001b[32m40.8/40.8 MB\u001b[0m \u001b[31m14.6 MB/s\u001b[0m eta \u001b[36m0:00:00\u001b[0m00:01\u001b[0m00:01\u001b[0mm\n",
      "\u001b[?25hDownloading threadpoolctl-3.5.0-py3-none-any.whl (18 kB)\n",
      "Installing collected packages: threadpoolctl, scipy, scikit-learn\n",
      "Successfully installed scikit-learn-1.5.1 scipy-1.14.0 threadpoolctl-3.5.0\n",
      "\n",
      "\u001b[1m[\u001b[0m\u001b[34;49mnotice\u001b[0m\u001b[1;39;49m]\u001b[0m\u001b[39;49m A new release of pip is available: \u001b[0m\u001b[31;49m24.0\u001b[0m\u001b[39;49m -> \u001b[0m\u001b[32;49m24.2\u001b[0m\n",
      "\u001b[1m[\u001b[0m\u001b[34;49mnotice\u001b[0m\u001b[1;39;49m]\u001b[0m\u001b[39;49m To update, run: \u001b[0m\u001b[32;49mpython3 -m pip install --upgrade pip\u001b[0m\n",
      "Note: you may need to restart the kernel to use updated packages.\n"
     ]
    }
   ],
   "source": [
    "pip install -U scikit-learn"
   ]
  },
  {
   "cell_type": "markdown",
   "id": "c7366460-049e-4543-ae82-6a8ebea23481",
   "metadata": {},
   "source": [
    "## Manip des données et transformation"
   ]
  },
  {
   "cell_type": "code",
   "execution_count": 5,
   "id": "383bd237-585d-40de-8f99-674a09045cd8",
   "metadata": {},
   "outputs": [
    {
     "data": {
      "text/plain": [
       "'/home/onyxia/work/Ollama'"
      ]
     },
     "execution_count": 5,
     "metadata": {},
     "output_type": "execute_result"
    }
   ],
   "source": [
    "os.getcwd()"
   ]
  },
  {
   "cell_type": "code",
   "execution_count": 6,
   "id": "fdd448e6-91a3-4b3d-92b0-5e68dae863c6",
   "metadata": {},
   "outputs": [
    {
     "data": {
      "text/html": [
       "<div>\n",
       "<style scoped>\n",
       "    .dataframe tbody tr th:only-of-type {\n",
       "        vertical-align: middle;\n",
       "    }\n",
       "\n",
       "    .dataframe tbody tr th {\n",
       "        vertical-align: top;\n",
       "    }\n",
       "\n",
       "    .dataframe thead th {\n",
       "        text-align: right;\n",
       "    }\n",
       "</style>\n",
       "<table border=\"1\" class=\"dataframe\">\n",
       "  <thead>\n",
       "    <tr style=\"text-align: right;\">\n",
       "      <th></th>\n",
       "      <th>Contenu</th>\n",
       "      <th>Lien</th>\n",
       "      <th>Source</th>\n",
       "      <th>Unnamed: 0</th>\n",
       "      <th>annotation_id</th>\n",
       "      <th>annotator</th>\n",
       "      <th>created_at</th>\n",
       "      <th>id</th>\n",
       "      <th>lead_time</th>\n",
       "      <th>sentiment</th>\n",
       "      <th>updated_at</th>\n",
       "    </tr>\n",
       "  </thead>\n",
       "  <tbody>\n",
       "    <tr>\n",
       "      <th>0</th>\n",
       "      <td>Accueil Voyage\\nSalon Nautique de Paris 2019: ...</td>\n",
       "      <td>http://www.lefigaro.fr/voyages/salon-nautique-...</td>\n",
       "      <td>LF</td>\n",
       "      <td>0</td>\n",
       "      <td>35</td>\n",
       "      <td>1</td>\n",
       "      <td>2024-07-19T20:42:45.261508Z</td>\n",
       "      <td>1</td>\n",
       "      <td>14.644</td>\n",
       "      <td>autre</td>\n",
       "      <td>2024-07-19T20:42:45.261555Z</td>\n",
       "    </tr>\n",
       "    <tr>\n",
       "      <th>1</th>\n",
       "      <td>Après Commercy et Saint-Nazaire, Montceau-les-...</td>\n",
       "      <td>https://www.humanite.fr/social-et-economie/gil...</td>\n",
       "      <td>MANKIND</td>\n",
       "      <td>1</td>\n",
       "      <td>36</td>\n",
       "      <td>1</td>\n",
       "      <td>2024-07-19T20:42:54.225717Z</td>\n",
       "      <td>2</td>\n",
       "      <td>6.048</td>\n",
       "      <td>autre</td>\n",
       "      <td>2024-07-19T20:42:54.225754Z</td>\n",
       "    </tr>\n",
       "    <tr>\n",
       "      <th>2</th>\n",
       "      <td>Les conducteurs de locomotives revendiquent un...</td>\n",
       "      <td>https://www.humanite.fr/monde/allemagne/en-all...</td>\n",
       "      <td>MANKIND</td>\n",
       "      <td>2</td>\n",
       "      <td>37</td>\n",
       "      <td>1</td>\n",
       "      <td>2024-07-19T20:43:04.859624Z</td>\n",
       "      <td>3</td>\n",
       "      <td>7.237</td>\n",
       "      <td>grève</td>\n",
       "      <td>2024-07-19T20:43:04.859681Z</td>\n",
       "    </tr>\n",
       "    <tr>\n",
       "      <th>3</th>\n",
       "      <td>Accueil Flash Eco\\nLe Covid-19 et ses restrict...</td>\n",
       "      <td>http://www.lefigaro.fr/flash-eco/le-covid-19-e...</td>\n",
       "      <td>LF</td>\n",
       "      <td>7</td>\n",
       "      <td>38</td>\n",
       "      <td>1</td>\n",
       "      <td>2024-07-19T20:43:11.420879Z</td>\n",
       "      <td>4</td>\n",
       "      <td>5.103</td>\n",
       "      <td>autre</td>\n",
       "      <td>2024-07-19T20:43:11.420921Z</td>\n",
       "    </tr>\n",
       "    <tr>\n",
       "      <th>4</th>\n",
       "      <td>Saintes : grève des psychologues au centre hos...</td>\n",
       "      <td>https://www.sudouest.fr/charente-maritime/la-r...</td>\n",
       "      <td>SOUTHWEST</td>\n",
       "      <td>8</td>\n",
       "      <td>39</td>\n",
       "      <td>1</td>\n",
       "      <td>2024-07-19T20:43:15.843355Z</td>\n",
       "      <td>5</td>\n",
       "      <td>1.838</td>\n",
       "      <td>grève</td>\n",
       "      <td>2024-07-19T20:43:15.843395Z</td>\n",
       "    </tr>\n",
       "  </tbody>\n",
       "</table>\n",
       "</div>"
      ],
      "text/plain": [
       "                                             Contenu  \\\n",
       "0  Accueil Voyage\\nSalon Nautique de Paris 2019: ...   \n",
       "1  Après Commercy et Saint-Nazaire, Montceau-les-...   \n",
       "2  Les conducteurs de locomotives revendiquent un...   \n",
       "3  Accueil Flash Eco\\nLe Covid-19 et ses restrict...   \n",
       "4  Saintes : grève des psychologues au centre hos...   \n",
       "\n",
       "                                                Lien     Source  Unnamed: 0  \\\n",
       "0  http://www.lefigaro.fr/voyages/salon-nautique-...         LF           0   \n",
       "1  https://www.humanite.fr/social-et-economie/gil...    MANKIND           1   \n",
       "2  https://www.humanite.fr/monde/allemagne/en-all...    MANKIND           2   \n",
       "3  http://www.lefigaro.fr/flash-eco/le-covid-19-e...         LF           7   \n",
       "4  https://www.sudouest.fr/charente-maritime/la-r...  SOUTHWEST           8   \n",
       "\n",
       "   annotation_id  annotator                   created_at  id  lead_time  \\\n",
       "0             35          1  2024-07-19T20:42:45.261508Z   1     14.644   \n",
       "1             36          1  2024-07-19T20:42:54.225717Z   2      6.048   \n",
       "2             37          1  2024-07-19T20:43:04.859624Z   3      7.237   \n",
       "3             38          1  2024-07-19T20:43:11.420879Z   4      5.103   \n",
       "4             39          1  2024-07-19T20:43:15.843355Z   5      1.838   \n",
       "\n",
       "  sentiment                   updated_at  \n",
       "0     autre  2024-07-19T20:42:45.261555Z  \n",
       "1     autre  2024-07-19T20:42:54.225754Z  \n",
       "2     grève  2024-07-19T20:43:04.859681Z  \n",
       "3     autre  2024-07-19T20:43:11.420921Z  \n",
       "4     grève  2024-07-19T20:43:15.843395Z  "
      ]
     },
     "execution_count": 6,
     "metadata": {},
     "output_type": "execute_result"
    }
   ],
   "source": [
    "df=pd.read_csv('/home/onyxia/work/Ollama/data/1.csv')\n",
    "df.head()"
   ]
  },
  {
   "cell_type": "code",
   "execution_count": 20,
   "id": "bbfff662-ecda-487c-bfc9-f2ce9596ed9a",
   "metadata": {},
   "outputs": [],
   "source": [
    "df_motif = pd.read_csv('/home/onyxia/work/Ollama/data/motif.csv', encoding='ISO-8859-1',sep=';')"
   ]
  },
  {
   "cell_type": "code",
   "execution_count": 77,
   "id": "0f489e09-1029-4b57-a654-ddcc14305994",
   "metadata": {},
   "outputs": [],
   "source": [
    "df_motiflast = pd.read_csv('/home/onyxia/work/Ollama/data/motiflast.csv')"
   ]
  },
  {
   "cell_type": "code",
   "execution_count": 81,
   "id": "63003db3-e069-4c2a-92f3-76481796e4ff",
   "metadata": {},
   "outputs": [],
   "source": [
    "df=df_motiflast[['text',\"sentiment\"]]"
   ]
  },
  {
   "cell_type": "code",
   "execution_count": null,
   "id": "12a5f4fe-220e-45ba-a063-2614b62928a4",
   "metadata": {},
   "outputs": [],
   "source": []
  },
  {
   "cell_type": "code",
   "execution_count": 82,
   "id": "c42170ac-edf3-4445-aed3-1d594930142c",
   "metadata": {},
   "outputs": [
    {
     "data": {
      "text/html": [
       "<div>\n",
       "<style scoped>\n",
       "    .dataframe tbody tr th:only-of-type {\n",
       "        vertical-align: middle;\n",
       "    }\n",
       "\n",
       "    .dataframe tbody tr th {\n",
       "        vertical-align: top;\n",
       "    }\n",
       "\n",
       "    .dataframe thead th {\n",
       "        text-align: right;\n",
       "    }\n",
       "</style>\n",
       "<table border=\"1\" class=\"dataframe\">\n",
       "  <thead>\n",
       "    <tr style=\"text-align: right;\">\n",
       "      <th></th>\n",
       "      <th>text</th>\n",
       "      <th>sentiment</th>\n",
       "    </tr>\n",
       "  </thead>\n",
       "  <tbody>\n",
       "    <tr>\n",
       "      <th>0</th>\n",
       "      <td>« La Croix » absent des kiosques depuis hier L...</td>\n",
       "      <td>Emploi-licenciement</td>\n",
       "    </tr>\n",
       "    <tr>\n",
       "      <th>1</th>\n",
       "      <td>Seine-Saint-Denis : les agents techniques des ...</td>\n",
       "      <td>Conditions de travail</td>\n",
       "    </tr>\n",
       "    <tr>\n",
       "      <th>2</th>\n",
       "      <td>Trafic perturbé sur le RER E demain Le trafic ...</td>\n",
       "      <td>Conditions de travail</td>\n",
       "    </tr>\n",
       "    <tr>\n",
       "      <th>3</th>\n",
       "      <td>Électricité : négociations salariales chez RTE...</td>\n",
       "      <td>Rémunérations</td>\n",
       "    </tr>\n",
       "    <tr>\n",
       "      <th>4</th>\n",
       "      <td>EasyJet:appel à la grève Le syndicat Unac des ...</td>\n",
       "      <td>Rémunérations</td>\n",
       "    </tr>\n",
       "  </tbody>\n",
       "</table>\n",
       "</div>"
      ],
      "text/plain": [
       "                                                text              sentiment\n",
       "0  « La Croix » absent des kiosques depuis hier L...    Emploi-licenciement\n",
       "1  Seine-Saint-Denis : les agents techniques des ...  Conditions de travail\n",
       "2  Trafic perturbé sur le RER E demain Le trafic ...  Conditions de travail\n",
       "3  Électricité : négociations salariales chez RTE...          Rémunérations\n",
       "4  EasyJet:appel à la grève Le syndicat Unac des ...          Rémunérations"
      ]
     },
     "execution_count": 82,
     "metadata": {},
     "output_type": "execute_result"
    }
   ],
   "source": [
    "df.head()"
   ]
  },
  {
   "cell_type": "code",
   "execution_count": 88,
   "id": "5e314f53-2852-4d7d-bf59-839fc34bc2b7",
   "metadata": {},
   "outputs": [
    {
     "data": {
      "text/plain": [
       "sentiment\n",
       "5    62\n",
       "1    33\n",
       "2    33\n",
       "4    11\n",
       "3     2\n",
       "Name: count, dtype: int64"
      ]
     },
     "execution_count": 88,
     "metadata": {},
     "output_type": "execute_result"
    }
   ],
   "source": [
    "df[\"sentiment\"].value_counts()"
   ]
  },
  {
   "cell_type": "code",
   "execution_count": 87,
   "id": "68e2df76-729f-484a-917b-b13b84d2f7bd",
   "metadata": {},
   "outputs": [
    {
     "name": "stderr",
     "output_type": "stream",
     "text": [
      "/tmp/ipykernel_1227/1241443443.py:10: FutureWarning: Downcasting behavior in `replace` is deprecated and will be removed in a future version. To retain the old behavior, explicitly call `result.infer_objects(copy=False)`. To opt-in to the future behavior, set `pd.set_option('future.no_silent_downcasting', True)`\n",
      "  df['sentiment'] = df['sentiment'].replace(recodage)\n",
      "/tmp/ipykernel_1227/1241443443.py:10: SettingWithCopyWarning: \n",
      "A value is trying to be set on a copy of a slice from a DataFrame.\n",
      "Try using .loc[row_indexer,col_indexer] = value instead\n",
      "\n",
      "See the caveats in the documentation: https://pandas.pydata.org/pandas-docs/stable/user_guide/indexing.html#returning-a-view-versus-a-copy\n",
      "  df['sentiment'] = df['sentiment'].replace(recodage)\n"
     ]
    },
    {
     "data": {
      "text/html": [
       "<div>\n",
       "<style scoped>\n",
       "    .dataframe tbody tr th:only-of-type {\n",
       "        vertical-align: middle;\n",
       "    }\n",
       "\n",
       "    .dataframe tbody tr th {\n",
       "        vertical-align: top;\n",
       "    }\n",
       "\n",
       "    .dataframe thead th {\n",
       "        text-align: right;\n",
       "    }\n",
       "</style>\n",
       "<table border=\"1\" class=\"dataframe\">\n",
       "  <thead>\n",
       "    <tr style=\"text-align: right;\">\n",
       "      <th></th>\n",
       "      <th>text</th>\n",
       "      <th>sentiment</th>\n",
       "    </tr>\n",
       "  </thead>\n",
       "  <tbody>\n",
       "    <tr>\n",
       "      <th>0</th>\n",
       "      <td>« La Croix » absent des kiosques depuis hier L...</td>\n",
       "      <td>4</td>\n",
       "    </tr>\n",
       "    <tr>\n",
       "      <th>1</th>\n",
       "      <td>Seine-Saint-Denis : les agents techniques des ...</td>\n",
       "      <td>2</td>\n",
       "    </tr>\n",
       "    <tr>\n",
       "      <th>2</th>\n",
       "      <td>Trafic perturbé sur le RER E demain Le trafic ...</td>\n",
       "      <td>2</td>\n",
       "    </tr>\n",
       "    <tr>\n",
       "      <th>3</th>\n",
       "      <td>Électricité : négociations salariales chez RTE...</td>\n",
       "      <td>1</td>\n",
       "    </tr>\n",
       "    <tr>\n",
       "      <th>4</th>\n",
       "      <td>EasyJet:appel à la grève Le syndicat Unac des ...</td>\n",
       "      <td>1</td>\n",
       "    </tr>\n",
       "  </tbody>\n",
       "</table>\n",
       "</div>"
      ],
      "text/plain": [
       "                                                text  sentiment\n",
       "0  « La Croix » absent des kiosques depuis hier L...          4\n",
       "1  Seine-Saint-Denis : les agents techniques des ...          2\n",
       "2  Trafic perturbé sur le RER E demain Le trafic ...          2\n",
       "3  Électricité : négociations salariales chez RTE...          1\n",
       "4  EasyJet:appel à la grève Le syndicat Unac des ...          1"
      ]
     },
     "execution_count": 87,
     "metadata": {},
     "output_type": "execute_result"
    }
   ],
   "source": [
    "###Recodage des modalité\n",
    "recodage = {\n",
    "    'Autres': 5,\n",
    "    'Rémunérations': 1,\n",
    "    'Conditions de travail': 2,\n",
    "    'Emploi-licenciement': 4,\n",
    "    'Temps de travail': 3\n",
    "}\n",
    "\n",
    "df['sentiment'] = df['sentiment'].replace(recodage)\n",
    "df.head()"
   ]
  },
  {
   "cell_type": "code",
   "execution_count": 7,
   "id": "59fe74ad-e3e0-47a2-9762-daa216366d02",
   "metadata": {},
   "outputs": [],
   "source": [
    "df = df.dropna(subset=['sentiment'])"
   ]
  },
  {
   "cell_type": "code",
   "execution_count": 6,
   "id": "aba3619f-1343-4a65-94a2-e3ae71d06b0f",
   "metadata": {},
   "outputs": [
    {
     "name": "stderr",
     "output_type": "stream",
     "text": [
      "/tmp/ipykernel_2787/1150596283.py:1: FutureWarning: Downcasting behavior in `replace` is deprecated and will be removed in a future version. To retain the old behavior, explicitly call `result.infer_objects(copy=False)`. To opt-in to the future behavior, set `pd.set_option('future.no_silent_downcasting', True)`\n",
      "  df['sentiment'] = df['sentiment'].replace({\"grève\": 1, \"autre\": 0})\n"
     ]
    }
   ],
   "source": [
    "df['sentiment'] = df['sentiment'].replace({\"grève\": 1, \"autre\": 0})"
   ]
  },
  {
   "cell_type": "code",
   "execution_count": 7,
   "id": "c8f9f769-d0d3-4b94-9dfd-9cf1dc87b4c0",
   "metadata": {},
   "outputs": [],
   "source": [
    "df=df[['Contenu','sentiment']]"
   ]
  },
  {
   "cell_type": "code",
   "execution_count": 8,
   "id": "e3b51152-90ed-44c1-ba60-d6c4fe7fa8c5",
   "metadata": {},
   "outputs": [],
   "source": [
    "df['Contenu'] = df['Contenu'].str.replace(\"\\n\", \" \")"
   ]
  },
  {
   "cell_type": "code",
   "execution_count": 89,
   "id": "51aa7955-6bce-4d8f-9687-0014aea0101a",
   "metadata": {},
   "outputs": [],
   "source": [
    "df_train, df_test = train_test_split(df, test_size=0.7, random_state=0)"
   ]
  },
  {
   "cell_type": "code",
   "execution_count": 90,
   "id": "5b34eaa6-4093-42e6-96c9-408158e619b4",
   "metadata": {},
   "outputs": [
    {
     "data": {
      "text/html": [
       "<div>\n",
       "<style scoped>\n",
       "    .dataframe tbody tr th:only-of-type {\n",
       "        vertical-align: middle;\n",
       "    }\n",
       "\n",
       "    .dataframe tbody tr th {\n",
       "        vertical-align: top;\n",
       "    }\n",
       "\n",
       "    .dataframe thead th {\n",
       "        text-align: right;\n",
       "    }\n",
       "</style>\n",
       "<table border=\"1\" class=\"dataframe\">\n",
       "  <thead>\n",
       "    <tr style=\"text-align: right;\">\n",
       "      <th></th>\n",
       "      <th>text</th>\n",
       "      <th>sentiment</th>\n",
       "    </tr>\n",
       "  </thead>\n",
       "  <tbody>\n",
       "    <tr>\n",
       "      <th>57</th>\n",
       "      <td>Grève des aiguilleurs SNCF : trafic « très per...</td>\n",
       "      <td>1</td>\n",
       "    </tr>\n",
       "    <tr>\n",
       "      <th>120</th>\n",
       "      <td>Depuis le 7 mars, des salariés d’un magasin pa...</td>\n",
       "      <td>1</td>\n",
       "    </tr>\n",
       "    <tr>\n",
       "      <th>65</th>\n",
       "      <td>Limoges : comme un caillou dans la chaussure d...</td>\n",
       "      <td>2</td>\n",
       "    </tr>\n",
       "    <tr>\n",
       "      <th>32</th>\n",
       "      <td>Air France prévoit de maintenir 75 % des vols ...</td>\n",
       "      <td>1</td>\n",
       "    </tr>\n",
       "    <tr>\n",
       "      <th>129</th>\n",
       "      <td>Basse-Normandie/trains: trafic perturbé  Le tr...</td>\n",
       "      <td>4</td>\n",
       "    </tr>\n",
       "  </tbody>\n",
       "</table>\n",
       "</div>"
      ],
      "text/plain": [
       "                                                  text  sentiment\n",
       "57   Grève des aiguilleurs SNCF : trafic « très per...          1\n",
       "120  Depuis le 7 mars, des salariés d’un magasin pa...          1\n",
       "65   Limoges : comme un caillou dans la chaussure d...          2\n",
       "32   Air France prévoit de maintenir 75 % des vols ...          1\n",
       "129  Basse-Normandie/trains: trafic perturbé  Le tr...          4"
      ]
     },
     "execution_count": 90,
     "metadata": {},
     "output_type": "execute_result"
    }
   ],
   "source": [
    "df_train.head()"
   ]
  },
  {
   "cell_type": "markdown",
   "id": "e6e4c979-e36c-47c1-94ae-44ee186e7e8e",
   "metadata": {},
   "source": [
    "## Experimentation chat"
   ]
  },
  {
   "cell_type": "code",
   "execution_count": 112,
   "id": "4cd3a051-1e62-47cd-9b8d-d65c8eb6e479",
   "metadata": {},
   "outputs": [],
   "source": [
    "content=df_train[\"text\"][120]"
   ]
  },
  {
   "cell_type": "code",
   "execution_count": 113,
   "id": "8c9231b2-612a-4dae-a3a5-7fa8fb7a26a9",
   "metadata": {},
   "outputs": [
    {
     "data": {
      "text/plain": [
       "'Depuis le 7 mars, des salariés d’un magasin parisien de l’enseigne d’articles de sport organisent des piquets de grève. Au départ contre la réforme des retraites, leur combat s’est étendu aux questions salariales et de pénibilité.'"
      ]
     },
     "execution_count": 113,
     "metadata": {},
     "output_type": "execute_result"
    }
   ],
   "source": [
    "content"
   ]
  },
  {
   "cell_type": "code",
   "execution_count": 41,
   "id": "81af8a94-2d5e-4912-9cb7-39ccf12d1a49",
   "metadata": {},
   "outputs": [],
   "source": [
    "message=[\n",
    "    {\n",
    "      \"role\": \"system\",\n",
    "      \"content\": \"Je veux t'envoyer un article et tu vas faire une classification binaire. Je veux que tu dises, Oui ou non selon qu il concernent une greve ou pas. Je veux que la sortie sois OUI ou NON\"\n",
    "    },\n",
    "    {\n",
    "      \"role\": \"user\",\n",
    "      \"content\": content\n",
    "    }\n",
    "]"
   ]
  },
  {
   "cell_type": "code",
   "execution_count": 20,
   "id": "0b835c7f-e247-4d97-856a-0b080fb2432d",
   "metadata": {},
   "outputs": [],
   "source": [
    "message=[\n",
    "    {\n",
    "      \"role\": \"user\",\n",
    "      \"content\": \"Certaine ville comportent le mot greve, je veux que tu sois concentré et que tu ne te laisse pas tromper\"\n",
    "    }\n",
    "]"
   ]
  },
  {
   "cell_type": "code",
   "execution_count": 42,
   "id": "1cbc34dc-f419-4292-933e-0506bc30bbce",
   "metadata": {
    "scrolled": true
   },
   "outputs": [
    {
     "name": "stdout",
     "output_type": "stream",
     "text": [
      "NON\n"
     ]
    }
   ],
   "source": [
    "response = ollama.chat(model='llama3.1', messages=message\n",
    ")\n",
    "print(response['message']['content'])"
   ]
  },
  {
   "cell_type": "code",
   "execution_count": 140,
   "id": "519d0e25-1056-4616-aa4e-19dfe4b49d9e",
   "metadata": {},
   "outputs": [],
   "source": [
    "instruction_1=\"\"\"Je veux t'envoyer un article et tu vas faire une classification binaire. Je veux que tu dises, Oui ou non selon qu il concernent une greve ou pas. Je veux que la sortie sois OUI ou NON\n",
    "      La greve doit etre considérée dans ce sens : La grève est la dénomination donnée à un mouvement collectif pris à l'initiative de tout ou partie du personnel d'une entreprise, destiné en général à contraindre \n",
    "      l'employeur à la négociation des conditions de travail et de rémunération. La grève a cependant changé d'orientation et de modalité car, outre la protestation dont elle se veut être l'expression, elle peut aussi \n",
    "      être décidée dans un but de solidarité avec d'autres entreprises même si les protestataires n'appartiennent pas au même employeur, pour exprimer la crainte d'une décision future ou dans un but politique. \n",
    "      Elle est exercée tant par le personnel des entreprises privées que par les agents des services publics.\n",
    "      En cas de doute je veux que tu repondes OUI. Pareil si tu n'a pas de moyen pour classifier la requete que je t'envoie, reponds simplement OUI. \n",
    "      Si l'article concerne un preavis de Greve je veux que tu le considere aussi comme une greve, donc tu repond OUI. Ne classe pas les articles qui concernent les marchent ou manifestations politiques\n",
    "      comme des greves\n",
    "      \"\"\""
   ]
  },
  {
   "cell_type": "code",
   "execution_count": 141,
   "id": "d836b373-69a6-4bff-a26b-efd711519c76",
   "metadata": {},
   "outputs": [],
   "source": [
    "instruction_2=\"\"\"\n",
    "L'aeticle concerne t il la France de l'une des facon suivante:\n",
    "Est ce que les evenements ont lieux en France ? ou concernent ils une entreprise francaise ou les DOM/TOM  ?  si une des affirmation est \n",
    "vraie, reponse OUI, sinon tu reponds NON\n",
    "\"\"\""
   ]
  },
  {
   "cell_type": "code",
   "execution_count": 142,
   "id": "1b9e6254-b2a1-4200-8f2a-65bb701f030f",
   "metadata": {},
   "outputs": [],
   "source": [
    "instruction_3=\"\"\"\n",
    "Si l'article concerne une greve, donne moi le nom de l'entreprise concernée par la greve.\n",
    "\"\"\""
   ]
  },
  {
   "cell_type": "code",
   "execution_count": 143,
   "id": "292f4f72-6072-4580-b570-4ee3040d0953",
   "metadata": {},
   "outputs": [],
   "source": [
    "instruction_4=\"\"\"\n",
    "Donne ensuite la raison de la grève, n'ajoute pas d'autre details, je veux la raison principale.\n",
    "\"\"\""
   ]
  },
  {
   "cell_type": "code",
   "execution_count": 150,
   "id": "21ef6d7c-c2e9-4598-8b1d-853dac4923df",
   "metadata": {},
   "outputs": [],
   "source": [
    "instruction=\"\"\"Je veux t'envoyer un article et tu vas faire une classification binaire. Je veux que tu dises, Oui ou non selon qu il concernent une greve ou pas. Je veux que la sortie sois OUI ou NON\n",
    "      La greve doit etre considérée dans ce sens : La grève est la dénomination donnée à un mouvement collectif pris à l'initiative de tout ou partie du personnel d'une entreprise, destiné en général à contraindre \n",
    "      l'employeur à la négociation des conditions de travail et de rémunération.\n",
    "      Mon objectif est d'avoir le moins de faux negatifs possible. Etant donné qu'il s'agit d'une classification binaire, je veux pas d'autre reponse que OUI ou NON\n",
    "      \"\"\""
   ]
  },
  {
   "cell_type": "code",
   "execution_count": 115,
   "id": "33358476-caef-4ad0-80cb-f334186436e3",
   "metadata": {},
   "outputs": [],
   "source": [
    "instruction=\"\"\"Je vais t envoyer du texte et il concerne les raison de greve. Je veux que tu le classifie selon 5 modalités:\n",
    "repond juste 1 s il concerne\t les Rémunérations, si on parle de salaire ou de remuneration dans le texte (cela concerne tout ce qui est lié au salaire)\n",
    "repond juste 2 s il concerne le\tTemps de travail (le texte parle de revendication qui concerne le temps élévé de travail)\n",
    "repond juste 3 s il concerne\tConditions de travail ( les condition de travail ne sont pas idéale, demande d'amelioration)\n",
    "repond juste  4 s il concerne\tEmploi-licenciement (perte de travail)\n",
    "repond juste 5 s il concerne\tpas tooutes les autres conditions\n",
    "\n",
    "Je veux que la sortie soit uniquement une des valeurs de 1 à 5 et rien d autre\n",
    "\"\"\""
   ]
  },
  {
   "cell_type": "code",
   "execution_count": 116,
   "id": "333116b2-b5f9-40d7-8bc5-712b954ae30d",
   "metadata": {},
   "outputs": [],
   "source": [
    "def ReturnResponse(request):\n",
    "\n",
    "\n",
    "    message=[ \n",
    "        {\n",
    "      \"role\": \"system\",\n",
    "      \"content\": instruction\n",
    "    }\n",
    "   ,\n",
    "    {\n",
    "      \"role\": \"user\",\n",
    "      \"content\": request\n",
    "    }\n",
    "    ]\n",
    "\n",
    "    response = ollama.chat(model='llama3.1', messages=message\n",
    "        )\n",
    "    #print(response['message']['content'])\n",
    "    #response_1=ollama.generate(model='llama3.1', prompt=\"dis moi si \" + request + \"concene la une greve  et reponds juste par oui ou non; l article doit etre considéré comme greve s il s'agit d'arret de travail, de preavis , d intention de greve ou tout autre chose qui se rapporte à un arrete de travail\")\n",
    "    #response_2=ollama.generate(model='llama3.1', prompt=\"dis moi si \" + request + \"concene la France ou s il a lieu en France et repond juste par oui ou non Jexige obligatoirement une reponse, si tu douute reponds par oui\"  )\n",
    "\n",
    "    return response['message']['content']"
   ]
  },
  {
   "cell_type": "code",
   "execution_count": 144,
   "id": "9bd4bfc9-dc1b-4bc3-bafb-a3e70d5b9c81",
   "metadata": {},
   "outputs": [],
   "source": [
    "def ReturnResponse(request):\n",
    "    instructions = [instruction_1,instruction_2,instruction_3,instruction_4]\n",
    "    \n",
    "    responses = []\n",
    "\n",
    "    for instruction in instructions:\n",
    "\n",
    "        message = [ \n",
    "            {\n",
    "                \"role\": \"system\",\n",
    "                \"content\": instruction\n",
    "            },\n",
    "            {\n",
    "                \"role\": \"user\",\n",
    "                \"content\": request\n",
    "            }\n",
    "        ]\n",
    "\n",
    "        response = ollama.chat(model='llama3.1', messages=message)\n",
    "        \n",
    "        responses.append(response['message']['content'])\n",
    "    \n",
    "    return responses"
   ]
  },
  {
   "cell_type": "code",
   "execution_count": 117,
   "id": "164e7b21-fe55-4118-8b50-e1e32633181d",
   "metadata": {},
   "outputs": [
    {
     "data": {
      "text/plain": [
       "'1'"
      ]
     },
     "execution_count": 117,
     "metadata": {},
     "output_type": "execute_result"
    }
   ],
   "source": [
    "ReturnResponse(content)"
   ]
  },
  {
   "cell_type": "code",
   "execution_count": 114,
   "id": "94b88461-4196-4e6c-9311-6e5bb488452f",
   "metadata": {},
   "outputs": [],
   "source": [
    "df_train[['Greve',\"Raison_sociale\",\"Revendication\"]] = df_train['Contenu'].apply(lambda x: pd.Series(ReturnResponse(x)))"
   ]
  },
  {
   "cell_type": "code",
   "execution_count": 118,
   "id": "6332018f-0794-4fa7-ad09-f6e7aad77694",
   "metadata": {},
   "outputs": [],
   "source": [
    "df_train[[\"Revendication\"]] = df_train['text'].apply(lambda x: pd.Series(ReturnResponse(x)))"
   ]
  },
  {
   "cell_type": "code",
   "execution_count": 119,
   "id": "3a92607e-09c1-4577-ad06-0002b2b5e46d",
   "metadata": {
    "scrolled": true
   },
   "outputs": [
    {
     "data": {
      "text/html": [
       "<div>\n",
       "<style scoped>\n",
       "    .dataframe tbody tr th:only-of-type {\n",
       "        vertical-align: middle;\n",
       "    }\n",
       "\n",
       "    .dataframe tbody tr th {\n",
       "        vertical-align: top;\n",
       "    }\n",
       "\n",
       "    .dataframe thead th {\n",
       "        text-align: right;\n",
       "    }\n",
       "</style>\n",
       "<table border=\"1\" class=\"dataframe\">\n",
       "  <thead>\n",
       "    <tr style=\"text-align: right;\">\n",
       "      <th></th>\n",
       "      <th>text</th>\n",
       "      <th>sentiment</th>\n",
       "      <th>Revendication</th>\n",
       "    </tr>\n",
       "  </thead>\n",
       "  <tbody>\n",
       "    <tr>\n",
       "      <th>57</th>\n",
       "      <td>Grève des aiguilleurs SNCF : trafic « très per...</td>\n",
       "      <td>1</td>\n",
       "      <td>4</td>\n",
       "    </tr>\n",
       "    <tr>\n",
       "      <th>120</th>\n",
       "      <td>Depuis le 7 mars, des salariés d’un magasin pa...</td>\n",
       "      <td>1</td>\n",
       "      <td>1</td>\n",
       "    </tr>\n",
       "    <tr>\n",
       "      <th>65</th>\n",
       "      <td>Limoges : comme un caillou dans la chaussure d...</td>\n",
       "      <td>2</td>\n",
       "      <td>3</td>\n",
       "    </tr>\n",
       "    <tr>\n",
       "      <th>32</th>\n",
       "      <td>Air France prévoit de maintenir 75 % des vols ...</td>\n",
       "      <td>1</td>\n",
       "      <td>2</td>\n",
       "    </tr>\n",
       "    <tr>\n",
       "      <th>129</th>\n",
       "      <td>Basse-Normandie/trains: trafic perturbé  Le tr...</td>\n",
       "      <td>4</td>\n",
       "      <td>4</td>\n",
       "    </tr>\n",
       "  </tbody>\n",
       "</table>\n",
       "</div>"
      ],
      "text/plain": [
       "                                                  text  sentiment  \\\n",
       "57   Grève des aiguilleurs SNCF : trafic « très per...          1   \n",
       "120  Depuis le 7 mars, des salariés d’un magasin pa...          1   \n",
       "65   Limoges : comme un caillou dans la chaussure d...          2   \n",
       "32   Air France prévoit de maintenir 75 % des vols ...          1   \n",
       "129  Basse-Normandie/trains: trafic perturbé  Le tr...          4   \n",
       "\n",
       "    Revendication  \n",
       "57              4  \n",
       "120             1  \n",
       "65              3  \n",
       "32              2  \n",
       "129             4  "
      ]
     },
     "execution_count": 119,
     "metadata": {},
     "output_type": "execute_result"
    }
   ],
   "source": [
    "df_train.head()"
   ]
  },
  {
   "cell_type": "code",
   "execution_count": 146,
   "id": "8a5e7e3b-287e-454c-ad97-b21926bb91fb",
   "metadata": {},
   "outputs": [
    {
     "data": {
      "text/plain": [
       "'La raison principale de la grève n\\'est pas mentionnée, mais il est fait référence à une \"grève\" sans plus de détails sur son objet.'"
      ]
     },
     "execution_count": 146,
     "metadata": {},
     "output_type": "execute_result"
    }
   ],
   "source": [
    "df_train.iloc[2]['Revendication']"
   ]
  },
  {
   "cell_type": "code",
   "execution_count": 68,
   "id": "36ff8a11-d6fe-44f1-8010-5607cd62febf",
   "metadata": {},
   "outputs": [
    {
     "data": {
      "text/plain": [
       "Catégorie\n",
       "5    84\n",
       "1    51\n",
       "3    25\n",
       "4    20\n",
       "2     5\n",
       "Name: count, dtype: int64"
      ]
     },
     "execution_count": 68,
     "metadata": {},
     "output_type": "execute_result"
    }
   ],
   "source": [
    "df_train[\"Catégorie\"].value_counts()"
   ]
  },
  {
   "cell_type": "code",
   "execution_count": 120,
   "id": "e77397b4-6548-43dc-b140-52dbb3312e1d",
   "metadata": {
    "scrolled": true
   },
   "outputs": [
    {
     "data": {
      "text/plain": [
       "Revendication\n",
       "1    10\n",
       "5    10\n",
       "4     8\n",
       "3     7\n",
       "2     7\n",
       "Name: count, dtype: int64"
      ]
     },
     "execution_count": 120,
     "metadata": {},
     "output_type": "execute_result"
    }
   ],
   "source": [
    "df_train[\"Revendication\"].value_counts()"
   ]
  },
  {
   "cell_type": "code",
   "execution_count": 120,
   "id": "a6460fa3-cd27-40ed-a76b-44239f1eaba7",
   "metadata": {
    "scrolled": true
   },
   "outputs": [
    {
     "data": {
      "text/plain": [
       "Greve\n",
       "1                                                                                                                                                                                                                                                                                                                                                                                                                                                                                                                                                                                                                                                                                                                                                                                                                                                                                                                                                                                                                                                                                                                                                                                                                                                                                                                                                                                                                                                                                                                                                                                                                                                                                                90\n",
       "0                                                                                                                                                                                                                                                                                                                                                                                                                                                                                                                                                                                                                                                                                                                                                                                                                                                                                                                                                                                                                                                                                                                                                                                                                                                                                                                                                                                                                                                                                                                                                                                                                                                                                                54\n",
       "La loi qui impose aux entreprises supérieures à 50 salariés une prime sur dividendes est entrée en vigueur depuis lundi. Cette prime ne sera pas obligatoirement fixe à un niveau minimum, mais pourrait varier suivant le montant des dividendes, du type d'intéressement ou de participation et même du salaire du bénéficiaire. La majorité des entreprises concernées ont préféré opter pour une forfaitisation de la prime, sauf dans quelques cas où elle a été réglée en fonction du salaire ou encore de l'âge dans l'entreprise. En France, selon les chiffres fournis par le ministère du Travail, 27% des DRH sondés ont déclaré être concernés par cette obligation légale qui ne s'applique qu'en cas d'une augmentation des dividendes versés en rapport à la moyenne de deux années précédentes.                                                                                                                                                                                                                                                                                                                                                                                                                                                                                                                                                                                                                                                                                                                                                                                                                                                                                   1\n",
       "L'incidence du Covid-19 diminue légèrement en Île-de-France et dans d'autres régions mais les autorités françaises font le constat que le reconfinement devrait amputer le PIB de 12% en novembre.                                                                                                                                                                                                                                                                                                                                                                                                                                                                                                                                                                                                                                                                                                                                                                                                                                                                                                                                                                                                                                                                                                                                                                                                                                                                                                                                                                                                                                                                                                1\n",
       "Voici une récapitulation et un analyse du texte :\\n\\n**Contexte**\\n\\nLe 26 septembre dernier, des policiers du syndicat Alliance s'étaient rassemblés devant le siège de la France Insoumise après que Jean-Luc Mélenchon a traité les policiers de \"barbares\". Ce mercredi, une manifestation d'envergure organisée par 20 organisations professionnelles se déroule à Paris, visant à exprimer le courroux policier.\\n\\n**Problèmes des forces de l'ordre**\\n\\nLes problèmes qui pesent sur les épaules des policiers sont divers :\\n\\n*   La sécurité publique et la protection des citoyens, qui ont changé avec l'évolution des menaces et des technologies.\\n*   Le sentiment d'être lâchés et salis lorsqu'ils sont sur le terrain, en raison de décisions politiques ou administratives.\\n*   Les suicides de policiers, qui sont souvent liés à la pression, au stress et à la perception que leur travail n'est pas reconnu.\\n*   La question des régimes de retraite et du système de bonifications pour les fonctionnaires sédentaires.\\n\\n**Manifestation**\\n\\nLa manifestation qui se déroule ce mercredi est un avertissement sérieux au gouvernement, demandant une reconnaissance plus forte du statut spécial des forces de l'ordre. La police et les syndicats exercent leur pression sur le gouvernement pour que celui-ci agisse contre ces problèmes.\\n\\n**Conclusion**\\n\\nLa situation actuelle est complexe et met en danger la profession policière tout entière. Le sentiment d'être sous-estimé, l'absence de reconnaissance de son statut spécial et les problèmes de sécurité publique mettent les forces de l'ordre dans une position difficile.                    1\n",
       "D'après le texte, les perturbations en raison de la grève contre la réforme des retraites concernent :\\n\\n*   La Bourse du travail de Lille-Fives\\n*   Des rassemblements sur l'ensemble des Hauts-de-France (tractage, barrage filtrant, opération escargot, etc.)\\n*   Des perturbations à la SNCF (TGV, TER) avec 3 TGV sur 5 et 1 TER sur 2 en moyenne\\n*   Des retards et annulations des services de bus scolaires et interurbains\\n*   Des perturbations dans le ciel avec 20 % d'annulation des vols dans les aéroports de Paris-Orly, Marseille, Toulouse et Bordeaux\\n\\nLa situation pourrait évoluer rapidement dans les départements du Nord et du Pas-de-Calais concernant le trafic pour la journée de mardi.                                                                                                                                                                                                                                                                                                                                                                                                                                                                                                                                                                                                                                                                                                                                                                                                                                                                                                                                                                       1\n",
       "Il semble qu'il s'agisse d'un article journalistique, dans lequel on critique la nomination de Nicole Belloubet au poste de ministre de l'Éducation nationale. Voici une analyse de l'article :\\n\\nL'article commence par faire état de la surprise exprimée par certains lorsqu'on apprend que Gabriel Attal a nommé Nicole Belloubet comme nouvelle ministre de l'Éducation nationale, malgré ses prédictions qui suggéraient qu'elle ne serait pas à la hauteur du poste. L'article souligne que Belloubet a des convictions qui semblent être en opposition avec les idées défendues par le gouvernement actuel.\\n\\nL'article critique ensuite les qualifications de Nicole Belloubet pour occuper ce poste, en soulignant qu'elle n'est pas une spécialiste du droit et qu'elle a fait preuve d'une certaine laxité dans ses actions passées (par exemple, lorsqu'elle a décidé de libérer des détenus en fin de peine pendant la pandémie).\\n\\nEnfin, l'article mentionne que le couple de l'exécutif semble avoir une prédilection pour les \"canards boiteux et les bras cassés\", ce qui signifie qu'ils ont tendance à nommer des personnes qui n'ont pas toutes les qualifications nécessaires pour occuper un poste important, mais qui sont cependant sympathiques ou complaisantes.\\n\\nL'article se termine par une critique de la nomination de Nicole Belloubet et par l'idée que le gouvernement devrait plutôt nommer quelqu'un d'autre, comme Christophe Kerrero, qui est qualifié pour occuper ce poste.                                                                                                                                                                        1\n",
       "C'est avec une grande fierté que l'acteur Samuel Le Bihan présente son projet Chrysalis, qui vise à transformer les déchets plastiques en carburant pour alimenter des générateurs d'électricité dans des pays en développement et des régions isolées. Il est issu d'une famille de marins et a déjà créé l'association Earthwake en 2014 pour lutter contre les déchets plastiques.\\n\\nUne autre mesure concrète provient de l'Association pour la Plaisance Eco-Responsable (APER), qui est la première filière au monde de déconstruction des bateaux de plaisance ou de sport en fin de vie. Créée en 2009 par la Fédération des industries nautiques, elle a officiellement été agréée par les pouvoirs publics en mars 2019.\\n\\nLes loueurs de bateaux comme SamBoat et Click&Boat ont contribué à rendre la navigation accessible au plus grand nombre, avec des contrats de location sur le maritime et le fluvial. La France est ainsi devenue le quatrième producteur mondial de bateaux, avec une augmentation du chiffre d'affaires de l'industrie nautique de 5% en 2018.\\n\\nLe salon Nautic présente également des innovations telles que le Sun loft 47, un monocoque innovant aux airs de catamarans conçu par Dream Yacht Charter et Jeanneau. Les voyageurs au pied marin pourront également découvrir les avantages de la gestion locative de bateaux sur le stand du leader haut de gamme du secteur, Sunsail -The Moorings.\\n\\nEnfin, un partenariat a été signé avec l'association The SeaCleaners en présence du navigateur Yvan Bourgnon, pour un projet fou de bateau géant nettoyeur des océans.                                                                       1\n",
       "Il n'y a pas de réponse unique à cette question. Cependant, j'ai pu extraire les informations suivantes des passages fournis :\\n\\n*   **SNCF** : La grève est reconduite jour après jour et un projet d'accord a été finalisé entre la direction et les organisations syndicales pour mettre fin à la grève.\\n*   **Air France** : La compagnie indique que 83% de ses vols sont assurés en ce premier jour de grève, mais malgré cela, Air France ne déplore que peu de perturbations ce samedi. Pour dimanche, la compagnie prévoit 27% de pilotes grévistes et «près de 80% de ses vols» assurés.\\n*   **Météo-France** : L'intersyndicale Météo-France (CGT, FO et Solidaires) a appelé à la grève du 11 au 14 juin pour dénoncer «la poursuite d'économies budgétaires» qui menace selon eux l'établissement public.                                                                                                                                                                                                                                                                                                                                                                                                                                                                                                                                                                                                                                                                                                                                                                                                                                                                         1\n",
       "Il est apparu que le syndicat SUD-rail a développé une stratégie de grève qui utilise plusieurs failles dans la loi sur le service minimum. Ces failles permettent aux cheminots d'organiser des mouvements sociaux efficaces, mais qui sont pénalisants pour l'entreprise SNCF.\\n\\nVoici les points clés de cette stratégie :\\n\\n*   La \"grève de Noël\" : une grève traditionnelle organisée en décembre, permettant aux agents d'astreinte de passer le temps avec leur famille tout en étant couverts par un préavis de grève.\\n*   Les mouvements de confort : des grèves organisées le week-end, permettant à certains cheminots de rester chez eux tout en étant couverts par un préavis de grève.\\n*   La \"grève de 59 minutes\" : une forme de grève où les cheminots se déclarent grévistes pour une heure moins une minute, leur permettant d'assurer leur journée normalement.\\n*   La \"grève de 59 minutes tournante\" : un dispositif permettant aux cheminots d'alterner jours de travail et mouvements sociaux, en utilisant deux préavis simultanément.\\n\\nCes stratégies sont rendues possibles par les failles dans la loi sur le service minimum. La SNCF est ainsi obligée d'organiser ses plans de transport en cas de mouvement social et de communiquer les horaires de trains aux voyageurs, mais elle ne peut pas empêcher un salarié de rejoindre un mouvement en cours de route ou de changer d'avis.\\n\\nIl est à noter que la stratégie du syndicat SUD-rail a suscité des critiques et des controverses. Certains considerent que cette tactique rend difficile la vie aux usagers, tandis que d'autres voient en elle une forme efficace de mobilisation sociale.     1\n",
       "Il semble que vous ayez copié un texte entier sans l'adapter ou le modifier pour en faire une demande de réponse claire. Je vais essayer d'y voir plus clair et donner une réponse pertinente.\\n\\nLe texte parle du ministre français Xavier Bertrand, son intérêt pour la politique et ses relations avec d'autres personnages politiques. Il semble que vous souhaitez savoir quelque chose à propos de ces informations, mais il n'est pas clair quelle question spécifique vous avez en tête.\\n\\nSi vous voulez faire une demande de réponse plus précise, je serais heureux de vous aider !\\n\\nVoici quelques possibilités :\\n\\n1. Vous souhaitez savoir comment Xavier Bertrand est perçu par les autres personnages politiques ?\\n2. Vous souhaitez comprendre son approche politique et ses positions sur des dossiers spécifiques ?\\n3. Vous voulez savoir quelque chose à propos de ses relations avec Nicolas Sarkozy, François Fillon ou d'autres personnages politiques ?\\n\\nS'il vous plaît, faites-moi une demande de réponse plus précise et je ferai de mon mieux pour vous aider !                                                                                                                                                                                                                                                                                                                                                                                                                                                                                                                                                                                              1\n",
       "Il s’agit d’un article de presse qui relate les négociations pour éviter une grève des pilotes de la compagnie aérienne Hop. Le principal syndicat de pilotes du SNPL Hop a lancé un appel à la grève tous les vendredis à partir du 14 février jusqu’au 30 avril, en demande d’améliorations salariales et des conditions de travail plus proches de celles d’Air France. Le conflit peut encore être évité si les négociations réussissent.\\n\\nLes pilotes de Hop espèrent obtenir un coût neutre pour l’intégration, ainsi que des garanties sur leur salaire et leurs carrières en cas de passage chez Air France. \\n\\nCependant, le tabou de la \"scope clause\" qui empêche les avions de plus de 110 sièges de voler sous la marque Hop a été mis de côté par les négociateurs.\\n\\nHop est une filiale régionale d'Air France et est contrainte d'être recapitalisée à hauteur de 220 millions d'euros.                                                                                                                                                                                                                                                                                                                                                                                                                                                                                                                                                                                                                                                                                                                                                                                      1\n",
       "Vous avez mentionné plusieurs produits intéressants pour le camping, tels que des lumières, des appareils photo et des objets connectés. Voici quelques commentaires sur ces suggestions :\\n\\n* La lampe torche confère visibilité et sécurité dans l'obscurité : c'est une bonne idée d'avoir une source de lumière fiable en cas de besoin.\\n* Les caméras peuvent être utiles pour capturer des moments inoubliables, mais il faudrait également considérer les contraintes en termes de place et de batterie.\\n* Le système de navigation Kenwood peut être très pratique pour les conducteurs de camping-car, car il fournit des itinéraires adaptés à leur gabarit et recense des adresses de zones de stationnement.\\n* Le vidéoprojecteur Capsule Max de Nebula est un produit innovant qui transforme la toile de tente en écran de projection de 254 cm de diagonale maximum. C'est une excellente idée pour diffuser des films ou des vidéos dans les endroits les plus reculés.\\n\\nEnfin, il faudrait également mentionner que certains produits, tels que l'Ecoflow Glacier et le Wave 2 d'Ecoflow, sont conçus pour chauffer ou rafraîchir les espaces de camping, ce qui peut être très utile en fonction des conditions météorologiques.\\n\\nC'est une excellente sélection de produits pour rendre votre expérience de camping plus agréable et pratique.                                                                                                                                                                                                                                                                                                                         1\n",
       "Il semble que vous ayez déjà lu l'article. Je peux vous aider à discuter des informations contenues dans cet article ou fournir des informations supplémentaires si nécessaire.\\n\\nPouvez-vous me dire quel aspect de l'article vous intéresserait particulièrement, par exemple les négociations entre la Russie et l'Ukraine, la libération du cinéaste ukrainien Oleg Sentsov ou d'autres aspects?                                                                                                                                                                                                                                                                                                                                                                                                                                                                                                                                                                                                                                                                                                                                                                                                                                                                                                                                                                                                                                                                                                                                                                                                                                                                                             1\n",
       "L'OM rejoint le podium en égalisant son score de 28 points, après un match très compliqué à Bordeaux. En revanche, les Girondins se sont débarrassés d'un adversaire dangereux à domicile et ont ainsi gagné le point nécessaire pour rester dans la course. Toulouse a été battu par une équipe bien déterminée et a souffert de nombreux buts encaissés. Cependant, l'entraîneur du club a souligné l'amélioration d'état d'esprit de son équipe après ce match.                                                                                                                                                                                                                                                                                                                                                                                                                                                                                                                                                                                                                                                                                                                                                                                                                                                                                                                                                                                                                                                                                                                                                                                                                                1\n",
       "Name: count, dtype: int64"
      ]
     },
     "execution_count": 120,
     "metadata": {},
     "output_type": "execute_result"
    }
   ],
   "source": [
    "df_train[\"Greve\"].value_counts()"
   ]
  },
  {
   "cell_type": "code",
   "execution_count": 128,
   "id": "4f553171-1129-493b-acb2-76c8430d7406",
   "metadata": {},
   "outputs": [],
   "source": [
    "df_train['Greve']=df_train['Greve'].replace({\"NON.\": 0,\"OUI.\": 1, \"NON\": 0,'OUI':1})"
   ]
  },
  {
   "cell_type": "code",
   "execution_count": 129,
   "id": "8911b5bd-105b-468f-aaf1-ab49efd84639",
   "metadata": {
    "scrolled": true
   },
   "outputs": [],
   "source": [
    "dff=df_train[(df_train.Greve ==1) | (df_train.Greve == 0)]"
   ]
  },
  {
   "cell_type": "code",
   "execution_count": 130,
   "id": "0ac79f7e-1ebf-427f-b23a-8445486c7b1c",
   "metadata": {
    "scrolled": true
   },
   "outputs": [
    {
     "data": {
      "text/html": [
       "<div>\n",
       "<style scoped>\n",
       "    .dataframe tbody tr th:only-of-type {\n",
       "        vertical-align: middle;\n",
       "    }\n",
       "\n",
       "    .dataframe tbody tr th {\n",
       "        vertical-align: top;\n",
       "    }\n",
       "\n",
       "    .dataframe thead th {\n",
       "        text-align: right;\n",
       "    }\n",
       "</style>\n",
       "<table border=\"1\" class=\"dataframe\">\n",
       "  <thead>\n",
       "    <tr style=\"text-align: right;\">\n",
       "      <th></th>\n",
       "      <th>Contenu</th>\n",
       "      <th>sentiment</th>\n",
       "      <th>Greve</th>\n",
       "      <th>Raison_sociale</th>\n",
       "      <th>Revendication</th>\n",
       "    </tr>\n",
       "  </thead>\n",
       "  <tbody>\n",
       "    <tr>\n",
       "      <th>82</th>\n",
       "      <td>La violence des déchets Un préavis de grève a ...</td>\n",
       "      <td>1</td>\n",
       "      <td>1</td>\n",
       "      <td>L'entreprise concernée par la grève est les dé...</td>\n",
       "      <td>La raison principale de la grève est : La viol...</td>\n",
       "    </tr>\n",
       "    <tr>\n",
       "      <th>189</th>\n",
       "      <td>Accueil Flash Eco Aérien: NKM salue la fin de ...</td>\n",
       "      <td>1</td>\n",
       "      <td>1</td>\n",
       "      <td>Aéroports de Paris (ADP)</td>\n",
       "      <td>La raison principale de la grève était la créa...</td>\n",
       "    </tr>\n",
       "    <tr>\n",
       "      <th>419</th>\n",
       "      <td>Population de Saint-Quay-Perros : nombre d'hab...</td>\n",
       "      <td>0</td>\n",
       "      <td>0</td>\n",
       "      <td>L'article concerne Saint-Quay-Perros, et donc ...</td>\n",
       "      <td>La raison principale de la grève n'est pas men...</td>\n",
       "    </tr>\n",
       "    <tr>\n",
       "      <th>522</th>\n",
       "      <td>Agression de Samara : « On la fait passer pour...</td>\n",
       "      <td>0</td>\n",
       "      <td>1</td>\n",
       "      <td>L'entreprise concernée par la grève est le col...</td>\n",
       "      <td>« On la fait passer pour la méchante »</td>\n",
       "    </tr>\n",
       "    <tr>\n",
       "      <th>280</th>\n",
       "      <td>Après les Assises du ferroviaire, les syndicat...</td>\n",
       "      <td>1</td>\n",
       "      <td>1</td>\n",
       "      <td>SNCF.</td>\n",
       "      <td>La modification de la réglementation du travail.</td>\n",
       "    </tr>\n",
       "    <tr>\n",
       "      <th>...</th>\n",
       "      <td>...</td>\n",
       "      <td>...</td>\n",
       "      <td>...</td>\n",
       "      <td>...</td>\n",
       "      <td>...</td>\n",
       "    </tr>\n",
       "    <tr>\n",
       "      <th>75</th>\n",
       "      <td>L’interview politique, une institution en dang...</td>\n",
       "      <td>0</td>\n",
       "      <td>1</td>\n",
       "      <td>L'article concerne une grève contre les ordonn...</td>\n",
       "      <td>L'opposition atomisée par les élections.</td>\n",
       "    </tr>\n",
       "    <tr>\n",
       "      <th>282</th>\n",
       "      <td>Accueil Politique Législative à Mayotte : duel...</td>\n",
       "      <td>0</td>\n",
       "      <td>0</td>\n",
       "      <td>L'entreprise concernée par cette grève général...</td>\n",
       "      <td>La grève générale.</td>\n",
       "    </tr>\n",
       "    <tr>\n",
       "      <th>9</th>\n",
       "      <td>Accueil Flash Actu Nigeria/Attentats: évasion ...</td>\n",
       "      <td>0</td>\n",
       "      <td>1</td>\n",
       "      <td>Ni Laipejia Airlines</td>\n",
       "      <td>Les étudiants nigérians sont en grève contre l...</td>\n",
       "    </tr>\n",
       "    <tr>\n",
       "      <th>366</th>\n",
       "      <td>Beauvais : le mouvement des conducteurs de bus...</td>\n",
       "      <td>1</td>\n",
       "      <td>1</td>\n",
       "      <td>Beauvaisis Mobilité - Corolis est l'entreprise...</td>\n",
       "      <td>La grève est due au conflit entre la CGT et la...</td>\n",
       "    </tr>\n",
       "    <tr>\n",
       "      <th>197</th>\n",
       "      <td>Laval – Girondins de Bordeaux. « Peut-être qu’...</td>\n",
       "      <td>0</td>\n",
       "      <td>1</td>\n",
       "      <td>Laval – Girondins de Bordeaux.</td>\n",
       "      <td>La raison principale de la grève des supporter...</td>\n",
       "    </tr>\n",
       "  </tbody>\n",
       "</table>\n",
       "<p>144 rows × 5 columns</p>\n",
       "</div>"
      ],
      "text/plain": [
       "                                               Contenu  sentiment Greve  \\\n",
       "82   La violence des déchets Un préavis de grève a ...          1     1   \n",
       "189  Accueil Flash Eco Aérien: NKM salue la fin de ...          1     1   \n",
       "419  Population de Saint-Quay-Perros : nombre d'hab...          0     0   \n",
       "522  Agression de Samara : « On la fait passer pour...          0     1   \n",
       "280  Après les Assises du ferroviaire, les syndicat...          1     1   \n",
       "..                                                 ...        ...   ...   \n",
       "75   L’interview politique, une institution en dang...          0     1   \n",
       "282  Accueil Politique Législative à Mayotte : duel...          0     0   \n",
       "9    Accueil Flash Actu Nigeria/Attentats: évasion ...          0     1   \n",
       "366  Beauvais : le mouvement des conducteurs de bus...          1     1   \n",
       "197  Laval – Girondins de Bordeaux. « Peut-être qu’...          0     1   \n",
       "\n",
       "                                        Raison_sociale  \\\n",
       "82   L'entreprise concernée par la grève est les dé...   \n",
       "189                           Aéroports de Paris (ADP)   \n",
       "419  L'article concerne Saint-Quay-Perros, et donc ...   \n",
       "522  L'entreprise concernée par la grève est le col...   \n",
       "280                                              SNCF.   \n",
       "..                                                 ...   \n",
       "75   L'article concerne une grève contre les ordonn...   \n",
       "282  L'entreprise concernée par cette grève général...   \n",
       "9                                 Ni Laipejia Airlines   \n",
       "366  Beauvaisis Mobilité - Corolis est l'entreprise...   \n",
       "197                     Laval – Girondins de Bordeaux.   \n",
       "\n",
       "                                         Revendication  \n",
       "82   La raison principale de la grève est : La viol...  \n",
       "189  La raison principale de la grève était la créa...  \n",
       "419  La raison principale de la grève n'est pas men...  \n",
       "522             « On la fait passer pour la méchante »  \n",
       "280   La modification de la réglementation du travail.  \n",
       "..                                                 ...  \n",
       "75            L'opposition atomisée par les élections.  \n",
       "282                                 La grève générale.  \n",
       "9    Les étudiants nigérians sont en grève contre l...  \n",
       "366  La grève est due au conflit entre la CGT et la...  \n",
       "197  La raison principale de la grève des supporter...  \n",
       "\n",
       "[144 rows x 5 columns]"
      ]
     },
     "execution_count": 130,
     "metadata": {},
     "output_type": "execute_result"
    }
   ],
   "source": [
    "dff"
   ]
  },
  {
   "cell_type": "code",
   "execution_count": 133,
   "id": "62005098-fc1c-45c4-87d8-d6eab471effd",
   "metadata": {},
   "outputs": [
    {
     "name": "stderr",
     "output_type": "stream",
     "text": [
      "/tmp/ipykernel_2787/320855277.py:2: SettingWithCopyWarning: \n",
      "A value is trying to be set on a copy of a slice from a DataFrame\n",
      "\n",
      "See the caveats in the documentation: https://pandas.pydata.org/pandas-docs/stable/user_guide/indexing.html#returning-a-view-versus-a-copy\n",
      "  df1.rename(columns={'Greve': 'valeur'}, inplace=True)\n"
     ]
    }
   ],
   "source": [
    "df1=dff[['Greve']]\n",
    "df1.rename(columns={'Greve': 'valeur'}, inplace=True)"
   ]
  },
  {
   "cell_type": "code",
   "execution_count": 134,
   "id": "42bc89c1-8b29-4f48-80ac-a2d35a1ed5f4",
   "metadata": {},
   "outputs": [
    {
     "name": "stderr",
     "output_type": "stream",
     "text": [
      "/tmp/ipykernel_2787/2142598591.py:2: SettingWithCopyWarning: \n",
      "A value is trying to be set on a copy of a slice from a DataFrame\n",
      "\n",
      "See the caveats in the documentation: https://pandas.pydata.org/pandas-docs/stable/user_guide/indexing.html#returning-a-view-versus-a-copy\n",
      "  df2.rename(columns={'sentiment': 'valeur'}, inplace=True)\n"
     ]
    }
   ],
   "source": [
    "df2=dff[['sentiment']]\n",
    "df2.rename(columns={'sentiment': 'valeur'}, inplace=True)\n"
   ]
  },
  {
   "cell_type": "code",
   "execution_count": 126,
   "id": "f7144544-1efe-4c2a-9da4-d97612d9613d",
   "metadata": {
    "scrolled": true
   },
   "outputs": [],
   "source": [
    "#df2 = df2['valeur']\n",
    "df2 = df_train['Revendication'].astype(int)"
   ]
  },
  {
   "cell_type": "code",
   "execution_count": 127,
   "id": "7491294d-6875-45a8-a7f3-ebf3c5800068",
   "metadata": {},
   "outputs": [],
   "source": [
    "#df1['valeur'] = df1['valeur'].astype(int)\n",
    "df1 = df_train['sentiment'].astype(int)"
   ]
  },
  {
   "cell_type": "markdown",
   "id": "6cf25a60-844e-4113-a65f-c1dce2e150d5",
   "metadata": {},
   "source": [
    "## Evaluation"
   ]
  },
  {
   "cell_type": "code",
   "execution_count": 128,
   "id": "9872c1f0-8045-4e56-9fc2-c90c2351bdb1",
   "metadata": {},
   "outputs": [
    {
     "name": "stdout",
     "output_type": "stream",
     "text": [
      "[[7 0 0 0 3]\n",
      " [1 5 0 0 1]\n",
      " [1 2 1 1 2]\n",
      " [1 1 0 3 3]\n",
      " [1 4 0 0 5]]\n",
      "              precision    recall  f1-score   support\n",
      "\n",
      "           1       0.64      0.70      0.67        10\n",
      "           2       0.42      0.71      0.53         7\n",
      "           3       1.00      0.14      0.25         7\n",
      "           4       0.75      0.38      0.50         8\n",
      "           5       0.36      0.50      0.42        10\n",
      "\n",
      "    accuracy                           0.50        42\n",
      "   macro avg       0.63      0.49      0.47        42\n",
      "weighted avg       0.62      0.50      0.48        42\n",
      "\n"
     ]
    }
   ],
   "source": [
    "print(confusion_matrix(df2, df1))\n",
    "print(classification_report(df2, df1))"
   ]
  },
  {
   "cell_type": "markdown",
   "id": "ff5e3d75-033a-4a06-bdfa-43a6036022ad",
   "metadata": {},
   "source": [
    "## Un echantillon plus petit"
   ]
  },
  {
   "cell_type": "code",
   "execution_count": null,
   "id": "c1ee0469-0c6e-4c83-b50e-ea0171e1f826",
   "metadata": {},
   "outputs": [],
   "source": [
    "print(confusion_matrix(df2, df1))\n",
    "print(classification_report(df2, df1))"
   ]
  }
 ],
 "metadata": {
  "kernelspec": {
   "display_name": "Python (.venv)",
   "language": "python",
   "name": "venv"
  },
  "language_info": {
   "codemirror_mode": {
    "name": "ipython",
    "version": 3
   },
   "file_extension": ".py",
   "mimetype": "text/x-python",
   "name": "python",
   "nbconvert_exporter": "python",
   "pygments_lexer": "ipython3",
   "version": "3.12.4"
  }
 },
 "nbformat": 4,
 "nbformat_minor": 5
}
