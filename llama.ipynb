{
 "cells": [
  {
   "cell_type": "code",
   "execution_count": null,
   "id": "f740cc8b-2e2b-4148-9000-1b87bafd0d99",
   "metadata": {},
   "outputs": [],
   "source": [
    "import ollama"
   ]
  },
  {
   "cell_type": "code",
   "execution_count": null,
   "id": "1cbc34dc-f419-4292-933e-0506bc30bbce",
   "metadata": {
    "scrolled": true
   },
   "outputs": [],
   "source": [
    "response = ollama.chat(model='llama3.1', messages=[\n",
    "  {\n",
    "    'role': 'user',\n",
    "    'content': 'Is the sky be blue?, I want that you say yes or no',\n",
    "  },\n",
    "])\n",
    "print(response['message']['content'])"
   ]
  },
  {
   "cell_type": "code",
   "execution_count": null,
   "id": "e33ce890-5b1f-48e0-8118-0eedd79c7266",
   "metadata": {
    "scrolled": true
   },
   "outputs": [],
   "source": [
    "ll=ollama.generate(model='llama3.1', prompt='Why is the sky blue?')"
   ]
  },
  {
   "cell_type": "code",
   "execution_count": null,
   "id": "e1f3010c-765a-4906-b8de-59062aa1dd52",
   "metadata": {},
   "outputs": [],
   "source": [
    "ll['response']"
   ]
  },
  {
   "cell_type": "code",
   "execution_count": null,
   "id": "333116b2-b5f9-40d7-8bc5-712b954ae30d",
   "metadata": {},
   "outputs": [],
   "source": [
    "def ReturnResponse(request):\n",
    "    response="
   ]
  },
  {
   "cell_type": "code",
   "execution_count": null,
   "id": "aa022fdb-4be0-470e-9ab1-d3c3c91a0acb",
   "metadata": {},
   "outputs": [],
   "source": []
  }
 ],
 "metadata": {
  "kernelspec": {
   "display_name": "Python 3 (ipykernel)",
   "language": "python",
   "name": "python3"
  },
  "language_info": {
   "codemirror_mode": {
    "name": "ipython",
    "version": 3
   },
   "file_extension": ".py",
   "mimetype": "text/x-python",
   "name": "python",
   "nbconvert_exporter": "python",
   "pygments_lexer": "ipython3",
   "version": "3.12.4"
  }
 },
 "nbformat": 4,
 "nbformat_minor": 5
}
