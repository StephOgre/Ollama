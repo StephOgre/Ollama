{
 "cells": [
  {
   "cell_type": "code",
   "execution_count": 18,
   "id": "f740cc8b-2e2b-4148-9000-1b87bafd0d99",
   "metadata": {},
   "outputs": [],
   "source": [
    "import ollama\n",
    "import pandas as pd\n",
    "import re\n",
    "from sklearn.model_selection import train_test_split\n",
    "import os\n",
    "from sklearn.metrics import classification_report, confusion_matrix, accuracy_score"
   ]
  },
  {
   "cell_type": "code",
   "execution_count": 24,
   "id": "383bd237-585d-40de-8f99-674a09045cd8",
   "metadata": {},
   "outputs": [
    {
     "data": {
      "text/plain": [
       "'/home/onyxia/work/Ollama'"
      ]
     },
     "execution_count": 24,
     "metadata": {},
     "output_type": "execute_result"
    }
   ],
   "source": [
    "os.getcwd()"
   ]
  },
  {
   "cell_type": "code",
   "execution_count": 101,
   "id": "fdd448e6-91a3-4b3d-92b0-5e68dae863c6",
   "metadata": {},
   "outputs": [
    {
     "data": {
      "text/html": [
       "<div>\n",
       "<style scoped>\n",
       "    .dataframe tbody tr th:only-of-type {\n",
       "        vertical-align: middle;\n",
       "    }\n",
       "\n",
       "    .dataframe tbody tr th {\n",
       "        vertical-align: top;\n",
       "    }\n",
       "\n",
       "    .dataframe thead th {\n",
       "        text-align: right;\n",
       "    }\n",
       "</style>\n",
       "<table border=\"1\" class=\"dataframe\">\n",
       "  <thead>\n",
       "    <tr style=\"text-align: right;\">\n",
       "      <th></th>\n",
       "      <th>Contenu</th>\n",
       "      <th>Lien</th>\n",
       "      <th>Source</th>\n",
       "      <th>Unnamed: 0</th>\n",
       "      <th>annotation_id</th>\n",
       "      <th>annotator</th>\n",
       "      <th>created_at</th>\n",
       "      <th>id</th>\n",
       "      <th>lead_time</th>\n",
       "      <th>sentiment</th>\n",
       "      <th>updated_at</th>\n",
       "    </tr>\n",
       "  </thead>\n",
       "  <tbody>\n",
       "    <tr>\n",
       "      <th>0</th>\n",
       "      <td>Accueil Voyage\\nSalon Nautique de Paris 2019: ...</td>\n",
       "      <td>http://www.lefigaro.fr/voyages/salon-nautique-...</td>\n",
       "      <td>LF</td>\n",
       "      <td>0</td>\n",
       "      <td>35</td>\n",
       "      <td>1</td>\n",
       "      <td>2024-07-19T20:42:45.261508Z</td>\n",
       "      <td>1</td>\n",
       "      <td>14.644</td>\n",
       "      <td>autre</td>\n",
       "      <td>2024-07-19T20:42:45.261555Z</td>\n",
       "    </tr>\n",
       "    <tr>\n",
       "      <th>1</th>\n",
       "      <td>Après Commercy et Saint-Nazaire, Montceau-les-...</td>\n",
       "      <td>https://www.humanite.fr/social-et-economie/gil...</td>\n",
       "      <td>MANKIND</td>\n",
       "      <td>1</td>\n",
       "      <td>36</td>\n",
       "      <td>1</td>\n",
       "      <td>2024-07-19T20:42:54.225717Z</td>\n",
       "      <td>2</td>\n",
       "      <td>6.048</td>\n",
       "      <td>autre</td>\n",
       "      <td>2024-07-19T20:42:54.225754Z</td>\n",
       "    </tr>\n",
       "    <tr>\n",
       "      <th>2</th>\n",
       "      <td>Les conducteurs de locomotives revendiquent un...</td>\n",
       "      <td>https://www.humanite.fr/monde/allemagne/en-all...</td>\n",
       "      <td>MANKIND</td>\n",
       "      <td>2</td>\n",
       "      <td>37</td>\n",
       "      <td>1</td>\n",
       "      <td>2024-07-19T20:43:04.859624Z</td>\n",
       "      <td>3</td>\n",
       "      <td>7.237</td>\n",
       "      <td>grève</td>\n",
       "      <td>2024-07-19T20:43:04.859681Z</td>\n",
       "    </tr>\n",
       "    <tr>\n",
       "      <th>3</th>\n",
       "      <td>Accueil Flash Eco\\nLe Covid-19 et ses restrict...</td>\n",
       "      <td>http://www.lefigaro.fr/flash-eco/le-covid-19-e...</td>\n",
       "      <td>LF</td>\n",
       "      <td>7</td>\n",
       "      <td>38</td>\n",
       "      <td>1</td>\n",
       "      <td>2024-07-19T20:43:11.420879Z</td>\n",
       "      <td>4</td>\n",
       "      <td>5.103</td>\n",
       "      <td>autre</td>\n",
       "      <td>2024-07-19T20:43:11.420921Z</td>\n",
       "    </tr>\n",
       "    <tr>\n",
       "      <th>4</th>\n",
       "      <td>Saintes : grève des psychologues au centre hos...</td>\n",
       "      <td>https://www.sudouest.fr/charente-maritime/la-r...</td>\n",
       "      <td>SOUTHWEST</td>\n",
       "      <td>8</td>\n",
       "      <td>39</td>\n",
       "      <td>1</td>\n",
       "      <td>2024-07-19T20:43:15.843355Z</td>\n",
       "      <td>5</td>\n",
       "      <td>1.838</td>\n",
       "      <td>grève</td>\n",
       "      <td>2024-07-19T20:43:15.843395Z</td>\n",
       "    </tr>\n",
       "  </tbody>\n",
       "</table>\n",
       "</div>"
      ],
      "text/plain": [
       "                                             Contenu  \\\n",
       "0  Accueil Voyage\\nSalon Nautique de Paris 2019: ...   \n",
       "1  Après Commercy et Saint-Nazaire, Montceau-les-...   \n",
       "2  Les conducteurs de locomotives revendiquent un...   \n",
       "3  Accueil Flash Eco\\nLe Covid-19 et ses restrict...   \n",
       "4  Saintes : grève des psychologues au centre hos...   \n",
       "\n",
       "                                                Lien     Source  Unnamed: 0  \\\n",
       "0  http://www.lefigaro.fr/voyages/salon-nautique-...         LF           0   \n",
       "1  https://www.humanite.fr/social-et-economie/gil...    MANKIND           1   \n",
       "2  https://www.humanite.fr/monde/allemagne/en-all...    MANKIND           2   \n",
       "3  http://www.lefigaro.fr/flash-eco/le-covid-19-e...         LF           7   \n",
       "4  https://www.sudouest.fr/charente-maritime/la-r...  SOUTHWEST           8   \n",
       "\n",
       "   annotation_id  annotator                   created_at  id  lead_time  \\\n",
       "0             35          1  2024-07-19T20:42:45.261508Z   1     14.644   \n",
       "1             36          1  2024-07-19T20:42:54.225717Z   2      6.048   \n",
       "2             37          1  2024-07-19T20:43:04.859624Z   3      7.237   \n",
       "3             38          1  2024-07-19T20:43:11.420879Z   4      5.103   \n",
       "4             39          1  2024-07-19T20:43:15.843355Z   5      1.838   \n",
       "\n",
       "  sentiment                   updated_at  \n",
       "0     autre  2024-07-19T20:42:45.261555Z  \n",
       "1     autre  2024-07-19T20:42:54.225754Z  \n",
       "2     grève  2024-07-19T20:43:04.859681Z  \n",
       "3     autre  2024-07-19T20:43:11.420921Z  \n",
       "4     grève  2024-07-19T20:43:15.843395Z  "
      ]
     },
     "execution_count": 101,
     "metadata": {},
     "output_type": "execute_result"
    }
   ],
   "source": [
    "df=pd.read_csv('/home/onyxia/work/Ollama/data/1.csv')\n",
    "df.head()"
   ]
  },
  {
   "cell_type": "code",
   "execution_count": 102,
   "id": "59fe74ad-e3e0-47a2-9762-daa216366d02",
   "metadata": {},
   "outputs": [],
   "source": [
    "df = df.dropna(subset=['sentiment'])"
   ]
  },
  {
   "cell_type": "code",
   "execution_count": 103,
   "id": "aba3619f-1343-4a65-94a2-e3ae71d06b0f",
   "metadata": {},
   "outputs": [
    {
     "name": "stderr",
     "output_type": "stream",
     "text": [
      "/tmp/ipykernel_1208/1150596283.py:1: FutureWarning: Downcasting behavior in `replace` is deprecated and will be removed in a future version. To retain the old behavior, explicitly call `result.infer_objects(copy=False)`. To opt-in to the future behavior, set `pd.set_option('future.no_silent_downcasting', True)`\n",
      "  df['sentiment'] = df['sentiment'].replace({\"grève\": 1, \"autre\": 0})\n"
     ]
    }
   ],
   "source": [
    "df['sentiment'] = df['sentiment'].replace({\"grève\": 1, \"autre\": 0})"
   ]
  },
  {
   "cell_type": "code",
   "execution_count": 104,
   "id": "c8f9f769-d0d3-4b94-9dfd-9cf1dc87b4c0",
   "metadata": {},
   "outputs": [],
   "source": [
    "df=df[['Contenu','sentiment']]"
   ]
  },
  {
   "cell_type": "code",
   "execution_count": 122,
   "id": "e3b51152-90ed-44c1-ba60-d6c4fe7fa8c5",
   "metadata": {},
   "outputs": [],
   "source": [
    "df['Contenu'] = df['Contenu'].str.replace(\"\\n\", \" \")"
   ]
  },
  {
   "cell_type": "code",
   "execution_count": 123,
   "id": "51aa7955-6bce-4d8f-9687-0014aea0101a",
   "metadata": {},
   "outputs": [],
   "source": [
    "df_train, df_test = train_test_split(df, test_size=0.9, random_state=0)"
   ]
  },
  {
   "cell_type": "code",
   "execution_count": 57,
   "id": "1cbc34dc-f419-4292-933e-0506bc30bbce",
   "metadata": {
    "scrolled": true
   },
   "outputs": [
    {
     "name": "stdout",
     "output_type": "stream",
     "text": [
      "Yes.\n"
     ]
    }
   ],
   "source": [
    "response = ollama.chat(model='llama3.1', messages=[\n",
    "  {\n",
    "    'role': 'user',\n",
    "    'content': 'Is the sky be blue?, I want that you say yes or no',\n",
    "  },\n",
    "])\n",
    "print(response['message']['content'])"
   ]
  },
  {
   "cell_type": "code",
   "execution_count": null,
   "id": "e33ce890-5b1f-48e0-8118-0eedd79c7266",
   "metadata": {
    "scrolled": true
   },
   "outputs": [],
   "source": [
    "ll=ollama.generate(model='llama3.1', prompt='Why is the sky blue?')"
   ]
  },
  {
   "cell_type": "code",
   "execution_count": null,
   "id": "e1f3010c-765a-4906-b8de-59062aa1dd52",
   "metadata": {},
   "outputs": [],
   "source": [
    "ll['response']"
   ]
  },
  {
   "cell_type": "code",
   "execution_count": 120,
   "id": "333116b2-b5f9-40d7-8bc5-712b954ae30d",
   "metadata": {},
   "outputs": [],
   "source": [
    "def ReturnResponse(request):\n",
    "    response_1=ollama.generate(model='llama3.1', prompt=\"dis moi si \" + request + \"concene la une greve  et reponds juste par oui ou non; l article doit etre considéré comme greve s il s'agit d'arret de travail, de preavis , d intention de greve ou tout autre chose qui se rapporte à un arrete de travail\")\n",
    "    response_2=ollama.generate(model='llama3.1', prompt=\"dis moi si \" + request + \"concene la France ou s il a lieu en France et repond juste par oui ou non Jexige obligatoirement une reponse, si tu douute reponds par oui\"  )\n",
    "\n",
    "    return response_1['response'],response_2['response']"
   ]
  },
  {
   "cell_type": "code",
   "execution_count": 15,
   "id": "aa022fdb-4be0-470e-9ab1-d3c3c91a0acb",
   "metadata": {},
   "outputs": [
    {
     "data": {
      "text/plain": [
       "('Oui.', 'Oui.')"
      ]
     },
     "execution_count": 15,
     "metadata": {},
     "output_type": "execute_result"
    }
   ],
   "source": [
    "ReturnResponse(\"\"\"Rentrée difficile après le pont de la Pentecôte pour les usagers des services SNCF en Ile-de-France Le trafic dans Paris et en banlieue sera en effet très fortement perturbé  ce mardi, en raison d' un appel à la grève des cheminots  à la veille d'une journée de négociation sur les primes au titre de leur mobilisation lors des Jeux Olympiques et Paralympiques JOP.La SNCF prévoit notamment un train sur cinq et uniquement aux heures de pointe sur les lignes D et R du réseau Transilien. La ligne E sera également particulièrement affectée avec deux rames sur cinq, sachant que le trafic sera interrompu entre 10 h 00 et 17 h 00, de nombreuses gares n étant pas desservies\n",
    "\"\"\")"
   ]
  },
  {
   "cell_type": "code",
   "execution_count": 9,
   "id": "35cfb8cd-1b65-4280-91ae-b81e8b7aabef",
   "metadata": {},
   "outputs": [],
   "source": [
    "import re"
   ]
  },
  {
   "cell_type": "code",
   "execution_count": 11,
   "id": "64e363a8-154e-4cdb-bb6c-5384e0731a49",
   "metadata": {},
   "outputs": [
    {
     "name": "stdout",
     "output_type": "stream",
     "text": [
      "**1. S'agit-il d'une grève **\n",
      "Oui, il s'agit bien d'un appel à la grève des cheminots.\n",
      "\n",
      "**2. Est-ce que la grève concerne toute la France **\n",
      "Non, la grève ne semble pas concerner l'ensemble de la France mais plutôt les usagers des services SNCF en Île-de-France (Paris et sa banlieue).\n",
      "\n",
      "**3. Quelle est l'entreprise concernée **\n",
      "L'entreprise concernée est la SNCF (Société Nationale des Chemins de Fer Français), qui est l'opérateur ferroviaire français.\n",
      "\n",
      "**4. Pourquoi a-t-il lieu **\n",
      "La grève est motivée par un appel à la négociation sur les primes liées à la mobilisation des cheminots lors des Jeux Olympiques et Paralympiques (JOP) organisés en France.\"\n",
      "\n"
     ]
    }
   ],
   "source": [
    "pattern = re.compile(r'\\*\\*(\\d+)\\.\\s(.*?)\\?\\*\\*\\n\\n(.*?)\\n\\n', re.DOTALL)\n",
    "matches = pattern.findall(texte)\n",
    "\n",
    "resultats = {}\n",
    "\n",
    "for match in matches:\n",
    "    numero_question = match[0]\n",
    "    question = match[1]\n",
    "    reponse = match[2]\n",
    "    resultats[numero_question] = {\n",
    "        'question': question,\n",
    "        'reponse': reponse\n",
    "    }\n",
    "\n",
    "for numero, contenu in resultats.items():\n",
    "    print(f\"**{numero}. {contenu['question']}**\")\n",
    "    print(contenu['reponse'])\n",
    "    print()"
   ]
  },
  {
   "cell_type": "code",
   "execution_count": 124,
   "id": "94b88461-4196-4e6c-9311-6e5bb488452f",
   "metadata": {},
   "outputs": [],
   "source": [
    "df_train[['Greve', 'France']] = df_train['Contenu'].apply(lambda x: pd.Series(ReturnResponse(x)))"
   ]
  },
  {
   "cell_type": "code",
   "execution_count": 125,
   "id": "3a92607e-09c1-4577-ad06-0002b2b5e46d",
   "metadata": {},
   "outputs": [
    {
     "data": {
      "text/html": [
       "<div>\n",
       "<style scoped>\n",
       "    .dataframe tbody tr th:only-of-type {\n",
       "        vertical-align: middle;\n",
       "    }\n",
       "\n",
       "    .dataframe tbody tr th {\n",
       "        vertical-align: top;\n",
       "    }\n",
       "\n",
       "    .dataframe thead th {\n",
       "        text-align: right;\n",
       "    }\n",
       "</style>\n",
       "<table border=\"1\" class=\"dataframe\">\n",
       "  <thead>\n",
       "    <tr style=\"text-align: right;\">\n",
       "      <th></th>\n",
       "      <th>Contenu</th>\n",
       "      <th>sentiment</th>\n",
       "      <th>Greve</th>\n",
       "      <th>France</th>\n",
       "    </tr>\n",
       "  </thead>\n",
       "  <tbody>\n",
       "    <tr>\n",
       "      <th>495</th>\n",
       "      <td>À Saint-Michel-en-Grève, des excréments humain...</td>\n",
       "      <td>0</td>\n",
       "      <td>Non.</td>\n",
       "      <td>Non</td>\n",
       "    </tr>\n",
       "    <tr>\n",
       "      <th>38</th>\n",
       "      <td>Réforme de la Justice : journée d'action des a...</td>\n",
       "      <td>0</td>\n",
       "      <td>Oui.</td>\n",
       "      <td>Oui.</td>\n",
       "    </tr>\n",
       "    <tr>\n",
       "      <th>396</th>\n",
       "      <td>Négociations salariales : les banques jouent l...</td>\n",
       "      <td>0</td>\n",
       "      <td>Oui</td>\n",
       "      <td>Oui.</td>\n",
       "    </tr>\n",
       "    <tr>\n",
       "      <th>58</th>\n",
       "      <td>Salaires, acquis sociaux, hôpital public : l'u...</td>\n",
       "      <td>0</td>\n",
       "      <td>Oui.</td>\n",
       "      <td>Non.</td>\n",
       "    </tr>\n",
       "    <tr>\n",
       "      <th>427</th>\n",
       "      <td>Le festival du 9-3 convoque les grands sorcier...</td>\n",
       "      <td>0</td>\n",
       "      <td>Oui.</td>\n",
       "      <td>Oui</td>\n",
       "    </tr>\n",
       "  </tbody>\n",
       "</table>\n",
       "</div>"
      ],
      "text/plain": [
       "                                               Contenu  sentiment Greve France\n",
       "495  À Saint-Michel-en-Grève, des excréments humain...          0  Non.    Non\n",
       "38   Réforme de la Justice : journée d'action des a...          0  Oui.   Oui.\n",
       "396  Négociations salariales : les banques jouent l...          0   Oui   Oui.\n",
       "58   Salaires, acquis sociaux, hôpital public : l'u...          0  Oui.   Non.\n",
       "427  Le festival du 9-3 convoque les grands sorcier...          0  Oui.    Oui"
      ]
     },
     "execution_count": 125,
     "metadata": {},
     "output_type": "execute_result"
    }
   ],
   "source": [
    "df_train.head()"
   ]
  },
  {
   "cell_type": "code",
   "execution_count": null,
   "id": "f67b39fd-6a28-4a9b-96da-f2dddc287874",
   "metadata": {},
   "outputs": [],
   "source": [
    "df_pred=df_train['Greve'].replace({\"Oui.\": 1, \"Non.\": 0,'Oui':1,\"Non\":0})\n",
    "df_pred.head()"
   ]
  },
  {
   "cell_type": "code",
   "execution_count": 143,
   "id": "4f553171-1129-493b-acb2-76c8430d7406",
   "metadata": {},
   "outputs": [],
   "source": [
    "df_train['Greve']=df_train['Greve'].replace({\"Oui.\": 1, \"Non.\": 0,'Oui':1,\"Non\":0})\n",
    "df_train['France']=df_train['Greve'].replace({\"Oui.\": 1, \"Non.\": 0,'Oui':1,\"Non\":0})"
   ]
  },
  {
   "cell_type": "code",
   "execution_count": null,
   "id": "50c960a0-a28f-4a4d-926c-f2845685cad6",
   "metadata": {},
   "outputs": [],
   "source": [
    "y_test=df_train[\"sentiment\"]"
   ]
  },
  {
   "cell_type": "code",
   "execution_count": 152,
   "id": "62005098-fc1c-45c4-87d8-d6eab471effd",
   "metadata": {},
   "outputs": [
    {
     "name": "stderr",
     "output_type": "stream",
     "text": [
      "/tmp/ipykernel_1208/4182851334.py:2: SettingWithCopyWarning: \n",
      "A value is trying to be set on a copy of a slice from a DataFrame\n",
      "\n",
      "See the caveats in the documentation: https://pandas.pydata.org/pandas-docs/stable/user_guide/indexing.html#returning-a-view-versus-a-copy\n",
      "  df1.rename(columns={'Greve': 'valeur'}, inplace=True)\n"
     ]
    },
    {
     "data": {
      "text/html": [
       "<div>\n",
       "<style scoped>\n",
       "    .dataframe tbody tr th:only-of-type {\n",
       "        vertical-align: middle;\n",
       "    }\n",
       "\n",
       "    .dataframe tbody tr th {\n",
       "        vertical-align: top;\n",
       "    }\n",
       "\n",
       "    .dataframe thead th {\n",
       "        text-align: right;\n",
       "    }\n",
       "</style>\n",
       "<table border=\"1\" class=\"dataframe\">\n",
       "  <thead>\n",
       "    <tr style=\"text-align: right;\">\n",
       "      <th></th>\n",
       "      <th>valeur</th>\n",
       "    </tr>\n",
       "  </thead>\n",
       "  <tbody>\n",
       "    <tr>\n",
       "      <th>495</th>\n",
       "      <td>0</td>\n",
       "    </tr>\n",
       "    <tr>\n",
       "      <th>38</th>\n",
       "      <td>1</td>\n",
       "    </tr>\n",
       "    <tr>\n",
       "      <th>396</th>\n",
       "      <td>1</td>\n",
       "    </tr>\n",
       "    <tr>\n",
       "      <th>58</th>\n",
       "      <td>1</td>\n",
       "    </tr>\n",
       "    <tr>\n",
       "      <th>427</th>\n",
       "      <td>1</td>\n",
       "    </tr>\n",
       "  </tbody>\n",
       "</table>\n",
       "</div>"
      ],
      "text/plain": [
       "    valeur\n",
       "495      0\n",
       "38       1\n",
       "396      1\n",
       "58       1\n",
       "427      1"
      ]
     },
     "execution_count": 152,
     "metadata": {},
     "output_type": "execute_result"
    }
   ],
   "source": [
    "df1=df_train[['Greve']]\n",
    "df1.rename(columns={'Greve': 'valeur'}, inplace=True)\n",
    "df1.head()"
   ]
  },
  {
   "cell_type": "code",
   "execution_count": 154,
   "id": "42bc89c1-8b29-4f48-80ac-a2d35a1ed5f4",
   "metadata": {},
   "outputs": [
    {
     "name": "stderr",
     "output_type": "stream",
     "text": [
      "/tmp/ipykernel_1208/3244160565.py:2: SettingWithCopyWarning: \n",
      "A value is trying to be set on a copy of a slice from a DataFrame\n",
      "\n",
      "See the caveats in the documentation: https://pandas.pydata.org/pandas-docs/stable/user_guide/indexing.html#returning-a-view-versus-a-copy\n",
      "  df2.rename(columns={'sentiment': 'valeur'}, inplace=True)\n"
     ]
    },
    {
     "data": {
      "text/html": [
       "<div>\n",
       "<style scoped>\n",
       "    .dataframe tbody tr th:only-of-type {\n",
       "        vertical-align: middle;\n",
       "    }\n",
       "\n",
       "    .dataframe tbody tr th {\n",
       "        vertical-align: top;\n",
       "    }\n",
       "\n",
       "    .dataframe thead th {\n",
       "        text-align: right;\n",
       "    }\n",
       "</style>\n",
       "<table border=\"1\" class=\"dataframe\">\n",
       "  <thead>\n",
       "    <tr style=\"text-align: right;\">\n",
       "      <th></th>\n",
       "      <th>valeur</th>\n",
       "    </tr>\n",
       "  </thead>\n",
       "  <tbody>\n",
       "    <tr>\n",
       "      <th>495</th>\n",
       "      <td>0</td>\n",
       "    </tr>\n",
       "    <tr>\n",
       "      <th>38</th>\n",
       "      <td>0</td>\n",
       "    </tr>\n",
       "    <tr>\n",
       "      <th>396</th>\n",
       "      <td>0</td>\n",
       "    </tr>\n",
       "    <tr>\n",
       "      <th>58</th>\n",
       "      <td>0</td>\n",
       "    </tr>\n",
       "    <tr>\n",
       "      <th>427</th>\n",
       "      <td>0</td>\n",
       "    </tr>\n",
       "  </tbody>\n",
       "</table>\n",
       "</div>"
      ],
      "text/plain": [
       "     valeur\n",
       "495       0\n",
       "38        0\n",
       "396       0\n",
       "58        0\n",
       "427       0"
      ]
     },
     "execution_count": 154,
     "metadata": {},
     "output_type": "execute_result"
    }
   ],
   "source": [
    "df2=df_train[['sentiment']]\n",
    "df2.rename(columns={'sentiment': 'valeur'}, inplace=True)\n",
    "df2.head()"
   ]
  },
  {
   "cell_type": "code",
   "execution_count": null,
   "id": "9872c1f0-8045-4e56-9fc2-c90c2351bdb1",
   "metadata": {},
   "outputs": [],
   "source": [
    "print(confusion_matrix(y_test, df_pred))\n",
    "print(classification_report(y_test, df_pred))"
   ]
  },
  {
   "cell_type": "code",
   "execution_count": 129,
   "id": "bf5c0e9c-67a1-449e-b2a6-044bea4c5052",
   "metadata": {},
   "outputs": [
    {
     "data": {
      "text/plain": [
       "\"Négociations salariales : les banques jouent la rigueur •Les augmentations générales ne sont pas à l'ordre du jour dans les banques commerciales françaises.•Les établissements se limitent à des mesures annexes. Ajouter à mes articles Commenter Partager Emploi & Salaires Novembre 2015 Par Sharon Wajsbrot , Véronique Chocron Publié le 13 nov. 2015 à 01:01 Dans un climat de très faible inflation, les banques françaises persévèrent en 2016 dans leur politique de rigueur salariale. En effet, les établissements qui achèvent ou ont déjà bouclé leurs négociations salariales annuelles (NAO), comme Société Générale et BNP Paribas, affichent des mesures moins généreuses que celles accordées en 2014. Fait nouveau cette année, Société Générale refuse, selon des sources syndicales, toute mesure générale, qu'il s'agisse de primes ou d'augmentations de salaire pérennes. Pour mémoire, en 2015, les salariés de la banque s'étaient vu octroyer une prime de 200 à 400 euros sous forme de supplément d'intéressement. En 2016, seuls les salaires les plus bas et ceux des cadres de plus de 50 ans seront revus à la hausse. Collectivement, les salariés bénéficieront de mesures annexes : une prise en charge plus favorable de leurs frais de garde d'enfants et de leurs charges de mutuelle et un jour supplémentaire pour le congé paternité. Globalement, c'est surtout ce type de mesures périphériques qui gagne du terrain dans les banques. De sources syndicales, LCL propose ainsi de fournir une caution bancaire à certains de ses salariés locataires, moyennant des frais de dossiers préférentiels. Comme Société Générale, la banque n'envisage pas d'augmentation collective. En 2016, LCL entend toutefois faire progresser sa masse salariale de 0,9 %, via des augmentations individuelles. Chez BNP Paribas, la tendance est similaire. En 2016, les salariés devraient bénéficier d'une enveloppe dédiée aux inégalités de salaires entre les hommes et les femmes et d'une prise en charge par la banque d'une partie des cotisations de mutuelles versées par les salariés. A noter toutefois que BNP Paribas a aussi proposé à ses salariés un supplément d'intéressement de 500 euros pour 2016. Cette mesure n'a pas suffi à susciter l'adhésion puisque aucun des quatre syndicats du groupe n'a signé ces propositions. Publicité Dans les banques, ces mesures sont en effet loin de convaincre : « La publication de résultats très satisfaisants laissait attendre bien autre chose », plaide Philippe Fournil, délégué national CGT à la Société Générale. Dans ce groupe, la mobilisation en interne est toutefois moins vive que l'an dernier. En décembre 2014, les cinq syndicats de la Société Générale, insatisfaits du résultat des négociations, avaient appelé à la grève. Cette année, c'est d'abord le plan de rationalisation du réseau d'agences du groupe qui concentre leurs préoccupations. « Même si le plan est pour le moment limité, les inquiétudes sur l'emploi sont vives », explique Mathieu Pué, délégué syndical national CFDT à la Société Générale. À noter Les négociations salariales annuelles se poursuivent dans les banques mutualistes et à la Banque Postale. Sharon Wajsbrot Nouveau : découvrez nos offres Premium ! Vos responsabilités exigent une attention fine aux événements et rapports de force qui régissent notre monde. Vous avez besoin d’anticiper les grandes tendances pour reconnaitre, au bon moment, les opportunités à saisir et les risques à prévenir.C’est précisément la promesse de nos offres PREMIUM : vous fournir des analyses exclusives et des outils de veille sectorielle pour prendre des décisions éclairées, identifier les signaux faibles et appuyer vos partis pris. N'attendez plus, les décisions les plus déterminantes pour vos succès 2024 se prennent maintenant ! Je découvre les offres Découvrez nos offres et profitez du 1er mois offert ! Je m'abonne NOS VIDÉOS Paris sportifs en ligne : qui sont les vrais gagnants ? Il y a 14 ans, la Française des Jeux (FDJ) perdait son monopole sur les paris sportifs en ligne. Aujourd’hui, 15 opérateurs se partagent ce marché toujours en croissance. Mais est-il si rentable que cela pour eux ? On vous explique. Portugal, Espagne, Grèce : la revanche des « pays du Club Med » Les jeunes ont-ils vraiment un problème avec le travail ? SNCF : la concurrence peut-elle faire baisser les prix des billets de train ? Publicité Publicité À LA UNE EXCLUSIF SONDAGE - Le RN mal parti pour décrocher une majorité absolue à l'Assemblée Qui est candidat au second tour dans votre circonscription ? Royaume-Uni : large victoire des travaillistes, Keir Starmer en passe d'être nommé Premier ministre Publicité\""
      ]
     },
     "execution_count": 129,
     "metadata": {},
     "output_type": "execute_result"
    }
   ],
   "source": [
    "df_train['Contenu'][396]"
   ]
  },
  {
   "cell_type": "code",
   "execution_count": 137,
   "id": "e0083c0f-4b4b-44f0-857c-a0653bc915b9",
   "metadata": {
    "scrolled": true
   },
   "outputs": [
    {
     "data": {
      "text/plain": [
       "495    0\n",
       "38     0\n",
       "396    0\n",
       "58     0\n",
       "427    0\n",
       "487    1\n",
       "133    1\n",
       "295    0\n",
       "28     0\n",
       "188    1\n",
       "377    0\n",
       "467    1\n",
       "168    1\n",
       "156    0\n",
       "249    1\n",
       "207    1\n",
       "31     0\n",
       "32     1\n",
       "132    0\n",
       "190    0\n",
       "270    1\n",
       "457    1\n",
       "293    0\n",
       "430    1\n",
       "405    1\n",
       "507    1\n",
       "152    0\n",
       "290    0\n",
       "518    0\n",
       "182    1\n",
       "527    0\n",
       "104    1\n",
       "345    1\n",
       "456    0\n",
       "439    0\n",
       "342    0\n",
       "202    1\n",
       "248    1\n",
       "472    0\n",
       "120    1\n",
       "77     0\n",
       "179    1\n",
       "92     0\n",
       "494    1\n",
       "319    1\n",
       "403    1\n",
       "480    0\n",
       "75     0\n",
       "282    0\n",
       "9      0\n",
       "366    1\n",
       "197    0\n",
       "Name: sentiment, dtype: int64"
      ]
     },
     "execution_count": 137,
     "metadata": {},
     "output_type": "execute_result"
    }
   ],
   "source": [
    "y_test"
   ]
  },
  {
   "cell_type": "code",
   "execution_count": 159,
   "id": "84cba95a-30c5-4ae9-9da6-18bf120ab3f5",
   "metadata": {},
   "outputs": [
    {
     "data": {
      "text/plain": [
       "(52, 1)"
      ]
     },
     "execution_count": 159,
     "metadata": {},
     "output_type": "execute_result"
    }
   ],
   "source": [
    "df1.shape"
   ]
  },
  {
   "cell_type": "code",
   "execution_count": 162,
   "id": "500072b5-ef24-42af-9d48-70690eb1ba9f",
   "metadata": {},
   "outputs": [
    {
     "name": "stdout",
     "output_type": "stream",
     "text": [
      "Nombre de bonnes réponses :\n",
      "23\n",
      "\n",
      "Taux de bonnes réponses (%) :\n",
      "44.230769230769226\n"
     ]
    }
   ],
   "source": [
    "def calculer_taux_bonnes_reponses(df1, df2):\n",
    "    df_merge = df1.join(df2, how='inner', lsuffix='_df1', rsuffix='_df2')\n",
    "    \n",
    "    df_merge['bonnes_reponses'] = df_merge['valeur_df1'] == df_merge['valeur_df2']\n",
    "    \n",
    "    nombre_bonnes_reponses = df_merge['bonnes_reponses'].sum()\n",
    "    \n",
    "    taux_bonnes_reponses = nombre_bonnes_reponses / len(df_merge) * 100\n",
    "    \n",
    "    return nombre_bonnes_reponses, taux_bonnes_reponses,df_merge\n",
    "\n",
    "nombre_bonnes_reponses, taux,df = calculer_taux_bonnes_reponses(df1, df2)\n",
    "\n",
    "print(\"Nombre de bonnes réponses :\")\n",
    "print(nombre_bonnes_reponses)\n",
    "\n",
    "print(\"\\nTaux de bonnes réponses (%) :\")\n",
    "print(taux)\n"
   ]
  },
  {
   "cell_type": "code",
   "execution_count": null,
   "id": "0a6ed684-9e17-4353-b582-e4fdd1ea6bf9",
   "metadata": {},
   "outputs": [],
   "source": []
  },
  {
   "cell_type": "code",
   "execution_count": null,
   "id": "c1ee0469-0c6e-4c83-b50e-ea0171e1f826",
   "metadata": {},
   "outputs": [],
   "source": []
  }
 ],
 "metadata": {
  "kernelspec": {
   "display_name": "Python (.venv)",
   "language": "python",
   "name": "venv"
  },
  "language_info": {
   "codemirror_mode": {
    "name": "ipython",
    "version": 3
   },
   "file_extension": ".py",
   "mimetype": "text/x-python",
   "name": "python",
   "nbconvert_exporter": "python",
   "pygments_lexer": "ipython3",
   "version": "3.12.4"
  }
 },
 "nbformat": 4,
 "nbformat_minor": 5
}
